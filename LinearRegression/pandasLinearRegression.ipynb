{
 "cells": [
  {
   "cell_type": "code",
   "execution_count": 1,
   "id": "d734ca86-e66d-44bb-a881-e10cc08fb3f6",
   "metadata": {},
   "outputs": [],
   "source": [
    "from sklearn.linear_model import LinearRegression\n",
    "from sklearn.model_selection import train_test_split, cross_validate\n",
    "import sklearn.datasets as datasets\n",
    "import pandas as pd\n",
    "import numpy as np\n",
    "import random"
   ]
  },
  {
   "cell_type": "code",
   "execution_count": 2,
   "id": "da83005f-f09b-41b6-a4ed-57a5dc72f078",
   "metadata": {},
   "outputs": [],
   "source": [
    "calif_housing = datasets.fetch_california_housing(as_frame = True)"
   ]
  },
  {
   "cell_type": "code",
   "execution_count": 3,
   "id": "82b0825d-8960-483e-a08f-a300279ccea0",
   "metadata": {},
   "outputs": [],
   "source": [
    "x_train, x_test, y_train, y_test = train_test_split(calif_housing['data'],calif_housing['target'])"
   ]
  },
  {
   "cell_type": "code",
   "execution_count": 4,
   "id": "879bc114-4f61-4733-a05e-b3e21b28635a",
   "metadata": {},
   "outputs": [],
   "source": [
    "def getModelPredictions(x,weights):\n",
    "    #time complexity is O(n*k), where n is number of datapoints, is number of values per input\n",
    "    \n",
    "    ans = []\n",
    "    for i in range(len(x)):\n",
    "        result = 0\n",
    "        for j in range(len(x.columns)):\n",
    "            result += x.iat[i, j] * weights[j]\n",
    "        ans.append(result)\n",
    "    return ans"
   ]
  },
  {
   "cell_type": "code",
   "execution_count": 5,
   "id": "0252c676-474e-4c11-a617-49208feb432a",
   "metadata": {},
   "outputs": [],
   "source": [
    "def getLeastSquaredError(dataAnswers, modelPredictions) -> float:\n",
    "    error = 0\n",
    "    for i in range(len(dataAnswers)):\n",
    "        error += (dataAnswers.iat[i] - modelPredictions[i])\n",
    "    return error"
   ]
  },
  {
   "cell_type": "code",
   "execution_count": 6,
   "id": "0a7050bb-84f8-426c-9300-09b15767857f",
   "metadata": {},
   "outputs": [],
   "source": [
    "def getLeastSquaresGradient(x_train,y_train,predictions,weight,weight_index):\n",
    "    #takes in model predictions, weight to get the gradient of, and the index of that weight within \"weights\"\n",
    "    ans_sum = 0\n",
    "    gradient = 0\n",
    "    x_col = x_train.iloc[:,weight_index]\n",
    "    for i in range(len(y_train)):\n",
    "        ans_sum += (y_train.iat[i] - predictions[i]) * x_col.iat[i]\n",
    "    gradient = ans_sum * -2\n",
    "    return gradient"
   ]
  },
  {
   "cell_type": "code",
   "execution_count": 7,
   "id": "07d87376-cf74-4a07-82a7-309fa4a790ad",
   "metadata": {},
   "outputs": [],
   "source": [
    "def updateWeights(weights, x_train, y_train, learningRate):\n",
    "    predictions = getModelPredictions(x_train, weights)\n",
    "    for i in range(len(weights)):\n",
    "        gradient = getLeastSquaresGradient(x_train, y_train, predictions, weights[i],i)\n",
    "        weights[i] -= learningRate * gradient\n",
    "    return weights"
   ]
  },
  {
   "cell_type": "code",
   "execution_count": 8,
   "id": "b91bdab6-eeb5-465d-bd3c-16e8f51d4bec",
   "metadata": {},
   "outputs": [],
   "source": [
    "def trainModel(x_train, y_train, learningRate = 0.01, numIterations = 30):\n",
    "    weights = [1] * len(x_train.columns)\n",
    "    #Initialize the weights to random numbers\n",
    "    for i in range(len(weights)):\n",
    "        weights[i] = random.randint(0,100)\n",
    "    for i in range(numIterations):\n",
    "        weights = updateWeights(weights, x_train, y_train, learningRate)\n",
    "    return weights        \n",
    "    "
   ]
  },
  {
   "cell_type": "code",
   "execution_count": 9,
   "id": "ae230c05-df99-4362-865b-7cf65ede3c9e",
   "metadata": {},
   "outputs": [],
   "source": [
    "def testModel(weights,x,y):\n",
    "    predictions = getModelPredictions(x,weights)\n",
    "    error = getLeastSquaredError(y, predictions)\n",
    "    print(\"The error is \" + str(error))"
   ]
  },
  {
   "cell_type": "code",
   "execution_count": 10,
   "id": "a0453d8f-b06e-4c32-8fcf-b6f74d550292",
   "metadata": {},
   "outputs": [],
   "source": [
    "model = trainModel(x_train,y_train)"
   ]
  },
  {
   "cell_type": "code",
   "execution_count": 11,
   "id": "09828226-4d4b-4487-a41d-577606024fe9",
   "metadata": {},
   "outputs": [],
   "source": [
    "predictions = getModelPredictions(x_test,model)"
   ]
  },
  {
   "cell_type": "code",
   "execution_count": 12,
   "id": "583270b2-fa05-4cb3-92bf-33f839046631",
   "metadata": {},
   "outputs": [
    {
     "name": "stdout",
     "output_type": "stream",
     "text": [
      "The error is -1.0463041286029545e+279\n"
     ]
    }
   ],
   "source": [
    "testModel(model,x_test,y_test)"
   ]
  },
  {
   "cell_type": "code",
   "execution_count": 13,
   "id": "a502776c-a372-4b0d-96c1-a0b2283f9576",
   "metadata": {},
   "outputs": [
    {
     "data": {
      "text/plain": [
       "12487    1.875\n",
       "11895    0.822\n",
       "667      1.846\n",
       "9037     1.239\n",
       "12410    0.934\n",
       "Name: MedHouseVal, dtype: float64"
      ]
     },
     "execution_count": 13,
     "metadata": {},
     "output_type": "execute_result"
    }
   ],
   "source": [
    "y_train.head()"
   ]
  },
  {
   "cell_type": "code",
   "execution_count": 14,
   "id": "acc17bd0-b420-470b-b4fe-a05aef8d264a",
   "metadata": {},
   "outputs": [
    {
     "data": {
      "text/html": [
       "<div>\n",
       "<style scoped>\n",
       "    .dataframe tbody tr th:only-of-type {\n",
       "        vertical-align: middle;\n",
       "    }\n",
       "\n",
       "    .dataframe tbody tr th {\n",
       "        vertical-align: top;\n",
       "    }\n",
       "\n",
       "    .dataframe thead th {\n",
       "        text-align: right;\n",
       "    }\n",
       "</style>\n",
       "<table border=\"1\" class=\"dataframe\">\n",
       "  <thead>\n",
       "    <tr style=\"text-align: right;\">\n",
       "      <th></th>\n",
       "      <th>MedInc</th>\n",
       "      <th>HouseAge</th>\n",
       "      <th>AveRooms</th>\n",
       "      <th>AveBedrms</th>\n",
       "      <th>Population</th>\n",
       "      <th>AveOccup</th>\n",
       "      <th>Latitude</th>\n",
       "      <th>Longitude</th>\n",
       "    </tr>\n",
       "  </thead>\n",
       "  <tbody>\n",
       "    <tr>\n",
       "      <th>7660</th>\n",
       "      <td>4.0687</td>\n",
       "      <td>38.0</td>\n",
       "      <td>4.832080</td>\n",
       "      <td>1.075188</td>\n",
       "      <td>1358.0</td>\n",
       "      <td>3.403509</td>\n",
       "      <td>33.84</td>\n",
       "      <td>-118.22</td>\n",
       "    </tr>\n",
       "    <tr>\n",
       "      <th>3148</th>\n",
       "      <td>2.3917</td>\n",
       "      <td>10.0</td>\n",
       "      <td>6.589686</td>\n",
       "      <td>1.356502</td>\n",
       "      <td>1167.0</td>\n",
       "      <td>2.616592</td>\n",
       "      <td>35.27</td>\n",
       "      <td>-118.34</td>\n",
       "    </tr>\n",
       "    <tr>\n",
       "      <th>6585</th>\n",
       "      <td>9.2463</td>\n",
       "      <td>39.0</td>\n",
       "      <td>8.129730</td>\n",
       "      <td>1.043243</td>\n",
       "      <td>1240.0</td>\n",
       "      <td>3.351351</td>\n",
       "      <td>34.22</td>\n",
       "      <td>-118.21</td>\n",
       "    </tr>\n",
       "    <tr>\n",
       "      <th>8351</th>\n",
       "      <td>3.1719</td>\n",
       "      <td>43.0</td>\n",
       "      <td>5.363764</td>\n",
       "      <td>0.994382</td>\n",
       "      <td>1505.0</td>\n",
       "      <td>2.113764</td>\n",
       "      <td>33.95</td>\n",
       "      <td>-118.32</td>\n",
       "    </tr>\n",
       "    <tr>\n",
       "      <th>15715</th>\n",
       "      <td>3.7188</td>\n",
       "      <td>46.0</td>\n",
       "      <td>4.434879</td>\n",
       "      <td>1.024283</td>\n",
       "      <td>761.0</td>\n",
       "      <td>1.679912</td>\n",
       "      <td>37.79</td>\n",
       "      <td>-122.45</td>\n",
       "    </tr>\n",
       "  </tbody>\n",
       "</table>\n",
       "</div>"
      ],
      "text/plain": [
       "       MedInc  HouseAge  AveRooms  AveBedrms  Population  AveOccup  Latitude  \\\n",
       "7660   4.0687      38.0  4.832080   1.075188      1358.0  3.403509     33.84   \n",
       "3148   2.3917      10.0  6.589686   1.356502      1167.0  2.616592     35.27   \n",
       "6585   9.2463      39.0  8.129730   1.043243      1240.0  3.351351     34.22   \n",
       "8351   3.1719      43.0  5.363764   0.994382      1505.0  2.113764     33.95   \n",
       "15715  3.7188      46.0  4.434879   1.024283       761.0  1.679912     37.79   \n",
       "\n",
       "       Longitude  \n",
       "7660     -118.22  \n",
       "3148     -118.34  \n",
       "6585     -118.21  \n",
       "8351     -118.32  \n",
       "15715    -122.45  "
      ]
     },
     "execution_count": 14,
     "metadata": {},
     "output_type": "execute_result"
    }
   ],
   "source": [
    "x_test.head()"
   ]
  },
  {
   "cell_type": "code",
   "execution_count": 15,
   "id": "a4286109-d7ae-48fe-83c1-551ae24dcaf1",
   "metadata": {},
   "outputs": [
    {
     "data": {
      "text/plain": [
       "7660     1.60300\n",
       "3148     0.79000\n",
       "6585     5.00001\n",
       "8351     1.83500\n",
       "15715    5.00001\n",
       "Name: MedHouseVal, dtype: float64"
      ]
     },
     "execution_count": 15,
     "metadata": {},
     "output_type": "execute_result"
    }
   ],
   "source": [
    "y_test.head()"
   ]
  },
  {
   "cell_type": "code",
   "execution_count": 16,
   "id": "95c9f75b-0610-409d-bbb6-526ddaab5717",
   "metadata": {},
   "outputs": [
    {
     "name": "stdout",
     "output_type": "stream",
     "text": [
      "12487    1.875\n",
      "11895    0.822\n",
      "667      1.846\n",
      "9037     1.239\n",
      "12410    0.934\n",
      "         ...  \n",
      "9458     1.000\n",
      "6659     1.731\n",
      "18384    4.183\n",
      "12656    0.841\n",
      "1808     1.563\n",
      "Name: MedHouseVal, Length: 15480, dtype: float64\n",
      "1.875\n"
     ]
    }
   ],
   "source": [
    "print(y_train)\n",
    "print(y_train.iloc[0])"
   ]
  },
  {
   "cell_type": "code",
   "execution_count": 17,
   "id": "d4b26308-830c-4368-9821-01a04bb24626",
   "metadata": {},
   "outputs": [
    {
     "name": "stdout",
     "output_type": "stream",
     "text": [
      "15480\n",
      "15480\n"
     ]
    }
   ],
   "source": [
    "print(len(x_train))\n",
    "print(len(y_train))"
   ]
  }
 ],
 "metadata": {
  "kernelspec": {
   "display_name": "Python 3 (ipykernel)",
   "language": "python",
   "name": "python3"
  },
  "language_info": {
   "codemirror_mode": {
    "name": "ipython",
    "version": 3
   },
   "file_extension": ".py",
   "mimetype": "text/x-python",
   "name": "python",
   "nbconvert_exporter": "python",
   "pygments_lexer": "ipython3",
   "version": "3.11.4"
  }
 },
 "nbformat": 4,
 "nbformat_minor": 5
}
