{
 "cells": [
  {
   "cell_type": "code",
   "execution_count": 724,
   "id": "886cc206-c8ed-4025-9bda-1ea176cc201a",
   "metadata": {},
   "outputs": [],
   "source": [
    "from sklearn.linear_model import LinearRegression\n",
    "from sklearn.model_selection import train_test_split, cross_validate\n",
    "from sklearn.preprocessing import normalize\n",
    "import sklearn.datasets as datasets\n",
    "import openml as oml\n",
    "import numpy as np\n",
    "import random"
   ]
  },
  {
   "cell_type": "code",
   "execution_count": 702,
   "id": "19ec0874-3bbf-4249-b990-8934a0ad24d7",
   "metadata": {},
   "outputs": [],
   "source": [
    "def modelPredict(weights, x):\n",
    "    ans = np.dot(x, weights)\n",
    "    return ans"
   ]
  },
  {
   "cell_type": "code",
   "execution_count": 585,
   "id": "d72a6d0c-2d5e-4ff7-b85c-d5c5a1cf9257",
   "metadata": {},
   "outputs": [],
   "source": [
    "def normalizeData(X):\n",
    "    min_vals, max_vals = X.min(axis=0), X.max(axis=0)\n",
    "    scaled_data = (X - min_vals) / (max_vals - min_vals)\n",
    "    return scaled_data"
   ]
  },
  {
   "cell_type": "code",
   "execution_count": 287,
   "id": "f3c68b14-1724-4b43-87fb-7f7deeb1068d",
   "metadata": {},
   "outputs": [],
   "source": [
    "def getMeanSquaredLoss(y_train, modelPredictions):\n",
    "    diff = ((y_train - modelPredictions) ** 2)\n",
    "    ans = diff.sum() / len(diff)\n",
    "    print(ans / len(diff))"
   ]
  },
  {
   "cell_type": "code",
   "execution_count": 591,
   "id": "3c8fa240-7f2c-4723-b8ad-11930b12f7cc",
   "metadata": {},
   "outputs": [],
   "source": [
    "def calculateAccuracy(y,predictions):\n",
    "    residualSumSquares = ((y - predictions) ** 2).sum()\n",
    "    totalSumSquares = ((y - y.mean()) ** 2).sum()\n",
    "    accuracy = 1 - (residualSumSquares / totalSumSquares)\n",
    "    return accuracy"
   ]
  },
  {
   "cell_type": "code",
   "execution_count": 590,
   "id": "7382549b-f7f6-4e53-8aeb-cf44ab9d97d8",
   "metadata": {},
   "outputs": [],
   "source": [
    "def getMeanSquaredGradient(x_train, y_train, modelPredictions):\n",
    "    N = len(y_train)\n",
    "    errors = y_train - modelPredictions\n",
    "    gradient = -2 * np.dot(errors, x_train) / N   \n",
    "    return gradient"
   ]
  },
  {
   "cell_type": "code",
   "execution_count": 726,
   "id": "232e3e64-8eb2-499f-aec4-8356c067433e",
   "metadata": {},
   "outputs": [],
   "source": [
    "def getModel(x_train, y_train, learningRate = 0.04, numIterations = 50000):\n",
    "    numWeights = len(x_train[0])\n",
    "    weights = np.array([1.0] * numWeights)\n",
    "    for i in range(numWeights):\n",
    "        weights[i] *= random.random()\n",
    "    for i in range(numIterations):\n",
    "        predictions = modelPredict(weights, x_train)\n",
    "        weights = weights - learningRate * (getMeanSquaredGradient(x_train, y_train, predictions))\n",
    "    return weights"
   ]
  },
  {
   "cell_type": "code",
   "execution_count": 345,
   "id": "3b638bd1-f15f-4eef-9e2b-e738c8e7727e",
   "metadata": {},
   "outputs": [],
   "source": [
    "no2 = oml.datasets.get_dataset(44136)\n",
    "X, Y, _, _ = no2.get_data(target=no2.default_target_attribute, dataset_format='array')\n",
    "X = normalizeData(X)\n",
    "x_train, x_test, y_train, y_test = train_test_split(X, Y)"
   ]
  },
  {
   "cell_type": "code",
   "execution_count": 689,
   "id": "9883482d-8b59-463c-9f20-f78618168db0",
   "metadata": {},
   "outputs": [],
   "source": [
    "X, Y = datasets.fetch_california_housing(return_X_y=True)\n",
    "X = normalizeData(X)\n",
    "x_train, x_test, y_train, y_test = train_test_split(X, Y)"
   ]
  },
  {
   "cell_type": "code",
   "execution_count": 690,
   "id": "a2a9680a-0b77-4871-a10f-2c838f977215",
   "metadata": {},
   "outputs": [],
   "source": [
    "#creating a column of ones at the beginning of the input data\n",
    "#this creates the intercept\n",
    "x_test_ones = np.ones((x_test.shape[0], 1))\n",
    "x_train_ones = np.ones((x_train.shape[0], 1))\n",
    "x_test = np.hstack((x_test_ones, x_test))\n",
    "x_train = np.hstack((x_train_ones, x_train))"
   ]
  },
  {
   "cell_type": "code",
   "execution_count": 718,
   "id": "560c62b8-7e57-45a5-9cd9-76565f09546b",
   "metadata": {},
   "outputs": [],
   "source": [
    "model = getModel(x_train, y_train)\n",
    "#after getting familiar enough with numpy to replace most for loops with numpy matrix operations\n",
    "#the amount of time it took this program to train on california_housing went down to seconds\n",
    "\n",
    "#it used to take like 5 minutes to train the program for 1000 iterations\n",
    "#now it takes the program only a few seconds to train for 100,000 iterations!"
   ]
  },
  {
   "cell_type": "code",
   "execution_count": 719,
   "id": "76a3d11e-a6e9-409e-8b9f-68ba92e2360e",
   "metadata": {},
   "outputs": [
    {
     "name": "stdout",
     "output_type": "stream",
     "text": [
      "[ 4.1506551   5.42347779  0.48204707  0.34350154  3.29643769 -0.13875428\n",
      " -0.67817454 -4.37081073 -4.72232154]\n"
     ]
    }
   ],
   "source": [
    "print(model)"
   ]
  },
  {
   "cell_type": "code",
   "execution_count": 720,
   "id": "59f06d19-4e04-499b-9321-ab8dbaaaf52b",
   "metadata": {},
   "outputs": [
    {
     "name": "stdout",
     "output_type": "stream",
     "text": [
      "0.6101694992010812\n"
     ]
    }
   ],
   "source": [
    "temp = modelPredict(model, x_test)\n",
    "accuracy = calculateAccuracy(y_test, temp)\n",
    "print(accuracy)"
   ]
  },
  {
   "cell_type": "code",
   "execution_count": 721,
   "id": "b0af6f33-8372-4d41-904b-41aa5b535b12",
   "metadata": {},
   "outputs": [
    {
     "name": "stdout",
     "output_type": "stream",
     "text": [
      "0.594034971591298\n"
     ]
    }
   ],
   "source": [
    "temp = modelPredict(model, x_train)\n",
    "accuracy = calculateAccuracy(y_train, temp)\n",
    "print(accuracy)"
   ]
  },
  {
   "cell_type": "code",
   "execution_count": 722,
   "id": "79e7baf8-6cf8-4d13-a5d8-7d4ac40d7740",
   "metadata": {},
   "outputs": [],
   "source": [
    "lr = LinearRegression().fit(x_train,y_train)"
   ]
  },
  {
   "cell_type": "code",
   "execution_count": 723,
   "id": "c7cda7f6-3c35-4aac-b121-3c1cb89b1003",
   "metadata": {},
   "outputs": [
    {
     "data": {
      "text/plain": [
       "0.6186151898817117"
      ]
     },
     "execution_count": 723,
     "metadata": {},
     "output_type": "execute_result"
    }
   ],
   "source": [
    "lr.score(x_test,y_test)"
   ]
  }
 ],
 "metadata": {
  "kernelspec": {
   "display_name": "Python 3 (ipykernel)",
   "language": "python",
   "name": "python3"
  },
  "language_info": {
   "codemirror_mode": {
    "name": "ipython",
    "version": 3
   },
   "file_extension": ".py",
   "mimetype": "text/x-python",
   "name": "python",
   "nbconvert_exporter": "python",
   "pygments_lexer": "ipython3",
   "version": "3.11.4"
  }
 },
 "nbformat": 4,
 "nbformat_minor": 5
}
