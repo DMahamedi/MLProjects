{
 "cells": [
  {
   "cell_type": "code",
   "execution_count": 74,
   "id": "d734ca86-e66d-44bb-a881-e10cc08fb3f6",
   "metadata": {},
   "outputs": [],
   "source": [
    "from sklearn.linear_model import LinearRegression\n",
    "from sklearn.model_selection import train_test_split, cross_validate\n",
    "import sklearn.datasets as datasets\n",
    "import pandas as pd\n",
    "import numpy as np\n",
    "import random"
   ]
  },
  {
   "cell_type": "code",
   "execution_count": 75,
   "id": "da83005f-f09b-41b6-a4ed-57a5dc72f078",
   "metadata": {},
   "outputs": [],
   "source": [
    "calif_housing = datasets.fetch_california_housing(as_frame = True)"
   ]
  },
  {
   "cell_type": "code",
   "execution_count": 76,
   "id": "82b0825d-8960-483e-a08f-a300279ccea0",
   "metadata": {},
   "outputs": [],
   "source": [
    "x_train, x_test, y_train, y_test = train_test_split(calif_housing['data'],calif_housing['target'])"
   ]
  },
  {
   "cell_type": "code",
   "execution_count": 97,
   "id": "879bc114-4f61-4733-a05e-b3e21b28635a",
   "metadata": {},
   "outputs": [],
   "source": [
    "def getModelPredictions(x,weights):\n",
    "    #time complexity is O(n*k), where n is number of datapoints, is number of values per input\n",
    "    \n",
    "    ans = []\n",
    "    for i in range(len(x)):\n",
    "        result = 0\n",
    "        for j in range(len(x.columns)):\n",
    "            result += x.iat[i, j] * weights[j]\n",
    "        ans.append(result)\n",
    "    return ans"
   ]
  },
  {
   "cell_type": "code",
   "execution_count": 100,
   "id": "0252c676-474e-4c11-a617-49208feb432a",
   "metadata": {},
   "outputs": [],
   "source": [
    "def getLeastSquaredError(dataAnswers, modelPredictions) -> float:\n",
    "    error = 0\n",
    "    for i in range(len(dataAnswers)):\n",
    "        error += (dataAnswers.iat[i] - modelPredictions[i])\n",
    "    return error"
   ]
  },
  {
   "cell_type": "code",
   "execution_count": 90,
   "id": "0a7050bb-84f8-426c-9300-09b15767857f",
   "metadata": {},
   "outputs": [],
   "source": [
    "def getLeastSquaresGradient(x_train,y_train,predictions,weight,weight_index):\n",
    "    #takes in model predictions, weight to get the gradient of, and the index of that weight within \"weights\"\n",
    "    ans_sum = 0\n",
    "    gradient = 0\n",
    "    x_col = x_train.iloc[:,weight_index]\n",
    "    for i in range(len(y_train)):\n",
    "        ans_sum += (y_train.iat[i] - predictions[i]) * x_col.iat[i]\n",
    "    gradient = ans_sum * -2\n",
    "    return gradient"
   ]
  },
  {
   "cell_type": "code",
   "execution_count": 80,
   "id": "07d87376-cf74-4a07-82a7-309fa4a790ad",
   "metadata": {},
   "outputs": [],
   "source": [
    "def updateWeights(weights, x_train, y_train, learningRate):\n",
    "    predictions = getModelPredictions(x_train, weights)\n",
    "    for i in range(len(weights)):\n",
    "        gradient = getLeastSquaresGradient(x_train, y_train, predictions, weights[i],i)\n",
    "        weights[i] -= learningRate * gradient\n",
    "    return weights"
   ]
  },
  {
   "cell_type": "code",
   "execution_count": 81,
   "id": "b91bdab6-eeb5-465d-bd3c-16e8f51d4bec",
   "metadata": {},
   "outputs": [],
   "source": [
    "def trainModel(x_train, y_train, learningRate = 0.01, numIterations = 30):\n",
    "    weights = [1] * len(x_train.columns)\n",
    "    #Initialize the weights to random numbers\n",
    "    for i in range(len(weights)):\n",
    "        weights[i] = random.randint(0,100)\n",
    "    for i in range(numIterations):\n",
    "        weights = updateWeights(weights, x_train, y_train, learningRate)\n",
    "    return weights        \n",
    "    "
   ]
  },
  {
   "cell_type": "code",
   "execution_count": 82,
   "id": "ae230c05-df99-4362-865b-7cf65ede3c9e",
   "metadata": {},
   "outputs": [],
   "source": [
    "def testModel(weights,x,y):\n",
    "    predictions = getModelPredictions(x,weights)\n",
    "    error = getLeastSquaredError(y, predictions)\n",
    "    print(\"The error is \" + str(error))"
   ]
  },
  {
   "cell_type": "code",
   "execution_count": 92,
   "id": "a0453d8f-b06e-4c32-8fcf-b6f74d550292",
   "metadata": {},
   "outputs": [],
   "source": [
    "model = trainModel(x_train,y_train)"
   ]
  },
  {
   "cell_type": "code",
   "execution_count": null,
   "id": "09828226-4d4b-4487-a41d-577606024fe9",
   "metadata": {},
   "outputs": [],
   "source": [
    "predictions = getModelPredictions(x_test,model)"
   ]
  },
  {
   "cell_type": "code",
   "execution_count": 101,
   "id": "583270b2-fa05-4cb3-92bf-33f839046631",
   "metadata": {},
   "outputs": [
    {
     "name": "stdout",
     "output_type": "stream",
     "text": [
      "The error is -3.724231981020282e+248\n"
     ]
    }
   ],
   "source": [
    "testModel(model,x_test,y_test)"
   ]
  },
  {
   "cell_type": "code",
   "execution_count": null,
   "id": "a502776c-a372-4b0d-96c1-a0b2283f9576",
   "metadata": {},
   "outputs": [],
   "source": [
    "y_train.head()"
   ]
  },
  {
   "cell_type": "code",
   "execution_count": null,
   "id": "acc17bd0-b420-470b-b4fe-a05aef8d264a",
   "metadata": {},
   "outputs": [],
   "source": [
    "x_test.head()"
   ]
  },
  {
   "cell_type": "code",
   "execution_count": null,
   "id": "a4286109-d7ae-48fe-83c1-551ae24dcaf1",
   "metadata": {},
   "outputs": [],
   "source": [
    "y_test.head()"
   ]
  },
  {
   "cell_type": "code",
   "execution_count": null,
   "id": "95c9f75b-0610-409d-bbb6-526ddaab5717",
   "metadata": {},
   "outputs": [],
   "source": [
    "print(y_train)\n",
    "print(y_train.iloc[0])"
   ]
  },
  {
   "cell_type": "code",
   "execution_count": null,
   "id": "d4b26308-830c-4368-9821-01a04bb24626",
   "metadata": {},
   "outputs": [],
   "source": [
    "print(len(x_train))\n",
    "print(len(y_train))"
   ]
  }
 ],
 "metadata": {
  "kernelspec": {
   "display_name": "Python 3 (ipykernel)",
   "language": "python",
   "name": "python3"
  },
  "language_info": {
   "codemirror_mode": {
    "name": "ipython",
    "version": 3
   },
   "file_extension": ".py",
   "mimetype": "text/x-python",
   "name": "python",
   "nbconvert_exporter": "python",
   "pygments_lexer": "ipython3",
   "version": "3.11.4"
  }
 },
 "nbformat": 4,
 "nbformat_minor": 5
}
