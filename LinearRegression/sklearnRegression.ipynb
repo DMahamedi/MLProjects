{
 "cells": [
  {
   "cell_type": "code",
   "execution_count": 4,
   "id": "2ffcc164-e409-4230-8fa6-b50e12ef104d",
   "metadata": {},
   "outputs": [],
   "source": [
    "from sklearn.linear_model import LinearRegression, LogisticRegression, Ridge, SGDRegressor\n",
    "from sklearn.model_selection import train_test_split, cross_validate\n",
    "from sklearn.preprocessing import normalize\n",
    "import sklearn.datasets as datasets\n",
    "import pandas as pd\n",
    "import numpy as np\n",
    "import random"
   ]
  },
  {
   "cell_type": "code",
   "execution_count": 5,
   "id": "a8a03369-6484-4fde-9496-ddd514edb4e9",
   "metadata": {},
   "outputs": [],
   "source": [
    "X, Y = datasets.fetch_california_housing(return_X_y = True)"
   ]
  },
  {
   "cell_type": "code",
   "execution_count": 6,
   "id": "711e4883-c500-41b0-8c03-61b7afcf0bd9",
   "metadata": {},
   "outputs": [],
   "source": [
    "x_train, x_test, y_train, y_test = train_test_split(X, Y)"
   ]
  },
  {
   "cell_type": "code",
   "execution_count": 29,
   "id": "8989b9ea-e6e5-4cc8-9ab4-f458c5941850",
   "metadata": {},
   "outputs": [],
   "source": [
    "lr = LinearRegression().fit(x_train, y_train)\n",
    "#LogR = LogisticRegression().fit(x_train, y_train)\n",
    "ridgeReg = Ridge().fit(x_train, y_train)\n",
    "SGD = SGDRegressor().fit(x_train, y_train)"
   ]
  },
  {
   "cell_type": "code",
   "execution_count": 38,
   "id": "7b0764be-f534-4f13-9df9-7c2eb82f5b50",
   "metadata": {},
   "outputs": [],
   "source": [
    "SGD = SGDRegressor().fit(x_train, y_train)"
   ]
  },
  {
   "cell_type": "code",
   "execution_count": 30,
   "id": "af93a146-0079-40d5-9311-4b56cc9e5df6",
   "metadata": {},
   "outputs": [
    {
     "data": {
      "text/plain": [
       "0.6093915202500184"
      ]
     },
     "execution_count": 30,
     "metadata": {},
     "output_type": "execute_result"
    }
   ],
   "source": [
    "lr.score(x_test,y_test)"
   ]
  },
  {
   "cell_type": "code",
   "execution_count": 31,
   "id": "055cb986-f6ed-403f-8e5b-d08de06c6a67",
   "metadata": {},
   "outputs": [
    {
     "data": {
      "text/plain": [
       "0.6093945557314229"
      ]
     },
     "execution_count": 31,
     "metadata": {},
     "output_type": "execute_result"
    }
   ],
   "source": [
    "ridgeReg.score(x_test,y_test)"
   ]
  },
  {
   "cell_type": "code",
   "execution_count": 39,
   "id": "6d505b9e-b930-4da6-9a89-ca309439395c",
   "metadata": {},
   "outputs": [
    {
     "data": {
      "text/plain": [
       "-5.560105258629163e+29"
      ]
     },
     "execution_count": 39,
     "metadata": {},
     "output_type": "execute_result"
    }
   ],
   "source": [
    "SGD.score(x_test,y_test)"
   ]
  }
 ],
 "metadata": {
  "kernelspec": {
   "display_name": "Python 3 (ipykernel)",
   "language": "python",
   "name": "python3"
  },
  "language_info": {
   "codemirror_mode": {
    "name": "ipython",
    "version": 3
   },
   "file_extension": ".py",
   "mimetype": "text/x-python",
   "name": "python",
   "nbconvert_exporter": "python",
   "pygments_lexer": "ipython3",
   "version": "3.11.4"
  }
 },
 "nbformat": 4,
 "nbformat_minor": 5
}
