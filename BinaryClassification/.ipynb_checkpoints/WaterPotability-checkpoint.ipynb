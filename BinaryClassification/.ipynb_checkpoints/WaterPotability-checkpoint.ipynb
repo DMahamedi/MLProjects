{
 "cells": [
  {
   "cell_type": "markdown",
   "id": "dbc40c5d-072a-4232-ab09-e65d116589a4",
   "metadata": {},
   "source": [
    "# Data preprocessing"
   ]
  },
  {
   "cell_type": "code",
   "execution_count": 1,
   "id": "df384881-664c-4ee3-9ffd-73e8d64910ed",
   "metadata": {},
   "outputs": [],
   "source": [
    "import numpy as np\n",
    "import pandas as pd\n",
    "import seaborn as sns\n",
    "import matplotlib.pyplot as plt\n",
    "import matplotlib as mpl\n",
    "\n",
    "from sklearn.model_selection import train_test_split\n",
    "from sklearn.preprocessing import StandardScaler, MinMaxScaler\n",
    "from sklearn.impute import KNNImputer\n",
    "\n",
    "from scipy.stats import skew\n"
   ]
  },
  {
   "cell_type": "code",
   "execution_count": 3,
   "id": "afd160e2-01f0-4dae-94b4-d1069e7c652a",
   "metadata": {},
   "outputs": [],
   "source": [
    "data_constant = pd.read_csv('./water_potability.csv') #because I will be manipulating 'data' a lot,\n",
    "#it is useful to have the dataloaded in a seperate dataframe which never gets changed\n",
    "data = pd.read_csv('./water_potability.csv')"
   ]
  },
  {
   "cell_type": "code",
   "execution_count": 4,
   "id": "655c1921-3bcb-490a-9586-a22b14766ae5",
   "metadata": {},
   "outputs": [
    {
     "data": {
      "text/html": [
       "<div>\n",
       "<style scoped>\n",
       "    .dataframe tbody tr th:only-of-type {\n",
       "        vertical-align: middle;\n",
       "    }\n",
       "\n",
       "    .dataframe tbody tr th {\n",
       "        vertical-align: top;\n",
       "    }\n",
       "\n",
       "    .dataframe thead th {\n",
       "        text-align: right;\n",
       "    }\n",
       "</style>\n",
       "<table border=\"1\" class=\"dataframe\">\n",
       "  <thead>\n",
       "    <tr style=\"text-align: right;\">\n",
       "      <th></th>\n",
       "      <th>ph</th>\n",
       "      <th>Hardness</th>\n",
       "      <th>Solids</th>\n",
       "      <th>Chloramines</th>\n",
       "      <th>Sulfate</th>\n",
       "      <th>Conductivity</th>\n",
       "      <th>Organic_carbon</th>\n",
       "      <th>Trihalomethanes</th>\n",
       "      <th>Turbidity</th>\n",
       "      <th>Potability</th>\n",
       "    </tr>\n",
       "  </thead>\n",
       "  <tbody>\n",
       "    <tr>\n",
       "      <th>0</th>\n",
       "      <td>NaN</td>\n",
       "      <td>204.890455</td>\n",
       "      <td>20791.318981</td>\n",
       "      <td>7.300212</td>\n",
       "      <td>368.516441</td>\n",
       "      <td>564.308654</td>\n",
       "      <td>10.379783</td>\n",
       "      <td>86.990970</td>\n",
       "      <td>2.963135</td>\n",
       "      <td>0</td>\n",
       "    </tr>\n",
       "    <tr>\n",
       "      <th>1</th>\n",
       "      <td>3.716080</td>\n",
       "      <td>129.422921</td>\n",
       "      <td>18630.057858</td>\n",
       "      <td>6.635246</td>\n",
       "      <td>NaN</td>\n",
       "      <td>592.885359</td>\n",
       "      <td>15.180013</td>\n",
       "      <td>56.329076</td>\n",
       "      <td>4.500656</td>\n",
       "      <td>0</td>\n",
       "    </tr>\n",
       "    <tr>\n",
       "      <th>2</th>\n",
       "      <td>8.099124</td>\n",
       "      <td>224.236259</td>\n",
       "      <td>19909.541732</td>\n",
       "      <td>9.275884</td>\n",
       "      <td>NaN</td>\n",
       "      <td>418.606213</td>\n",
       "      <td>16.868637</td>\n",
       "      <td>66.420093</td>\n",
       "      <td>3.055934</td>\n",
       "      <td>0</td>\n",
       "    </tr>\n",
       "    <tr>\n",
       "      <th>3</th>\n",
       "      <td>8.316766</td>\n",
       "      <td>214.373394</td>\n",
       "      <td>22018.417441</td>\n",
       "      <td>8.059332</td>\n",
       "      <td>356.886136</td>\n",
       "      <td>363.266516</td>\n",
       "      <td>18.436524</td>\n",
       "      <td>100.341674</td>\n",
       "      <td>4.628771</td>\n",
       "      <td>0</td>\n",
       "    </tr>\n",
       "    <tr>\n",
       "      <th>4</th>\n",
       "      <td>9.092223</td>\n",
       "      <td>181.101509</td>\n",
       "      <td>17978.986339</td>\n",
       "      <td>6.546600</td>\n",
       "      <td>310.135738</td>\n",
       "      <td>398.410813</td>\n",
       "      <td>11.558279</td>\n",
       "      <td>31.997993</td>\n",
       "      <td>4.075075</td>\n",
       "      <td>0</td>\n",
       "    </tr>\n",
       "    <tr>\n",
       "      <th>5</th>\n",
       "      <td>5.584087</td>\n",
       "      <td>188.313324</td>\n",
       "      <td>28748.687739</td>\n",
       "      <td>7.544869</td>\n",
       "      <td>326.678363</td>\n",
       "      <td>280.467916</td>\n",
       "      <td>8.399735</td>\n",
       "      <td>54.917862</td>\n",
       "      <td>2.559708</td>\n",
       "      <td>0</td>\n",
       "    </tr>\n",
       "    <tr>\n",
       "      <th>6</th>\n",
       "      <td>10.223862</td>\n",
       "      <td>248.071735</td>\n",
       "      <td>28749.716544</td>\n",
       "      <td>7.513408</td>\n",
       "      <td>393.663396</td>\n",
       "      <td>283.651634</td>\n",
       "      <td>13.789695</td>\n",
       "      <td>84.603556</td>\n",
       "      <td>2.672989</td>\n",
       "      <td>0</td>\n",
       "    </tr>\n",
       "    <tr>\n",
       "      <th>7</th>\n",
       "      <td>8.635849</td>\n",
       "      <td>203.361523</td>\n",
       "      <td>13672.091764</td>\n",
       "      <td>4.563009</td>\n",
       "      <td>303.309771</td>\n",
       "      <td>474.607645</td>\n",
       "      <td>12.363817</td>\n",
       "      <td>62.798309</td>\n",
       "      <td>4.401425</td>\n",
       "      <td>0</td>\n",
       "    </tr>\n",
       "    <tr>\n",
       "      <th>8</th>\n",
       "      <td>NaN</td>\n",
       "      <td>118.988579</td>\n",
       "      <td>14285.583854</td>\n",
       "      <td>7.804174</td>\n",
       "      <td>268.646941</td>\n",
       "      <td>389.375566</td>\n",
       "      <td>12.706049</td>\n",
       "      <td>53.928846</td>\n",
       "      <td>3.595017</td>\n",
       "      <td>0</td>\n",
       "    </tr>\n",
       "    <tr>\n",
       "      <th>9</th>\n",
       "      <td>11.180284</td>\n",
       "      <td>227.231469</td>\n",
       "      <td>25484.508491</td>\n",
       "      <td>9.077200</td>\n",
       "      <td>404.041635</td>\n",
       "      <td>563.885481</td>\n",
       "      <td>17.927806</td>\n",
       "      <td>71.976601</td>\n",
       "      <td>4.370562</td>\n",
       "      <td>0</td>\n",
       "    </tr>\n",
       "    <tr>\n",
       "      <th>10</th>\n",
       "      <td>7.360640</td>\n",
       "      <td>165.520797</td>\n",
       "      <td>32452.614409</td>\n",
       "      <td>7.550701</td>\n",
       "      <td>326.624353</td>\n",
       "      <td>425.383419</td>\n",
       "      <td>15.586810</td>\n",
       "      <td>78.740016</td>\n",
       "      <td>3.662292</td>\n",
       "      <td>0</td>\n",
       "    </tr>\n",
       "    <tr>\n",
       "      <th>11</th>\n",
       "      <td>7.974522</td>\n",
       "      <td>218.693300</td>\n",
       "      <td>18767.656682</td>\n",
       "      <td>8.110385</td>\n",
       "      <td>NaN</td>\n",
       "      <td>364.098230</td>\n",
       "      <td>14.525746</td>\n",
       "      <td>76.485911</td>\n",
       "      <td>4.011718</td>\n",
       "      <td>0</td>\n",
       "    </tr>\n",
       "    <tr>\n",
       "      <th>12</th>\n",
       "      <td>7.119824</td>\n",
       "      <td>156.704993</td>\n",
       "      <td>18730.813653</td>\n",
       "      <td>3.606036</td>\n",
       "      <td>282.344050</td>\n",
       "      <td>347.715027</td>\n",
       "      <td>15.929536</td>\n",
       "      <td>79.500778</td>\n",
       "      <td>3.445756</td>\n",
       "      <td>0</td>\n",
       "    </tr>\n",
       "    <tr>\n",
       "      <th>13</th>\n",
       "      <td>NaN</td>\n",
       "      <td>150.174923</td>\n",
       "      <td>27331.361962</td>\n",
       "      <td>6.838223</td>\n",
       "      <td>299.415781</td>\n",
       "      <td>379.761835</td>\n",
       "      <td>19.370807</td>\n",
       "      <td>76.509996</td>\n",
       "      <td>4.413974</td>\n",
       "      <td>0</td>\n",
       "    </tr>\n",
       "    <tr>\n",
       "      <th>14</th>\n",
       "      <td>7.496232</td>\n",
       "      <td>205.344982</td>\n",
       "      <td>28388.004887</td>\n",
       "      <td>5.072558</td>\n",
       "      <td>NaN</td>\n",
       "      <td>444.645352</td>\n",
       "      <td>13.228311</td>\n",
       "      <td>70.300213</td>\n",
       "      <td>4.777382</td>\n",
       "      <td>0</td>\n",
       "    </tr>\n",
       "  </tbody>\n",
       "</table>\n",
       "</div>"
      ],
      "text/plain": [
       "           ph    Hardness        Solids  Chloramines     Sulfate  \\\n",
       "0         NaN  204.890455  20791.318981     7.300212  368.516441   \n",
       "1    3.716080  129.422921  18630.057858     6.635246         NaN   \n",
       "2    8.099124  224.236259  19909.541732     9.275884         NaN   \n",
       "3    8.316766  214.373394  22018.417441     8.059332  356.886136   \n",
       "4    9.092223  181.101509  17978.986339     6.546600  310.135738   \n",
       "5    5.584087  188.313324  28748.687739     7.544869  326.678363   \n",
       "6   10.223862  248.071735  28749.716544     7.513408  393.663396   \n",
       "7    8.635849  203.361523  13672.091764     4.563009  303.309771   \n",
       "8         NaN  118.988579  14285.583854     7.804174  268.646941   \n",
       "9   11.180284  227.231469  25484.508491     9.077200  404.041635   \n",
       "10   7.360640  165.520797  32452.614409     7.550701  326.624353   \n",
       "11   7.974522  218.693300  18767.656682     8.110385         NaN   \n",
       "12   7.119824  156.704993  18730.813653     3.606036  282.344050   \n",
       "13        NaN  150.174923  27331.361962     6.838223  299.415781   \n",
       "14   7.496232  205.344982  28388.004887     5.072558         NaN   \n",
       "\n",
       "    Conductivity  Organic_carbon  Trihalomethanes  Turbidity  Potability  \n",
       "0     564.308654       10.379783        86.990970   2.963135           0  \n",
       "1     592.885359       15.180013        56.329076   4.500656           0  \n",
       "2     418.606213       16.868637        66.420093   3.055934           0  \n",
       "3     363.266516       18.436524       100.341674   4.628771           0  \n",
       "4     398.410813       11.558279        31.997993   4.075075           0  \n",
       "5     280.467916        8.399735        54.917862   2.559708           0  \n",
       "6     283.651634       13.789695        84.603556   2.672989           0  \n",
       "7     474.607645       12.363817        62.798309   4.401425           0  \n",
       "8     389.375566       12.706049        53.928846   3.595017           0  \n",
       "9     563.885481       17.927806        71.976601   4.370562           0  \n",
       "10    425.383419       15.586810        78.740016   3.662292           0  \n",
       "11    364.098230       14.525746        76.485911   4.011718           0  \n",
       "12    347.715027       15.929536        79.500778   3.445756           0  \n",
       "13    379.761835       19.370807        76.509996   4.413974           0  \n",
       "14    444.645352       13.228311        70.300213   4.777382           0  "
      ]
     },
     "execution_count": 4,
     "metadata": {},
     "output_type": "execute_result"
    }
   ],
   "source": [
    "data.head(15)"
   ]
  },
  {
   "cell_type": "markdown",
   "id": "8c50d7cc-8378-4359-a3f1-0b548c57eb4e",
   "metadata": {},
   "source": [
    "The first thing we notice above is that there are missing values in 'ph' and 'Sulfate'.\n"
   ]
  },
  {
   "cell_type": "markdown",
   "id": "6f33e035-b019-4fa4-b48d-641c8b222e45",
   "metadata": {},
   "source": [
    "## Missing Data"
   ]
  },
  {
   "cell_type": "markdown",
   "id": "c7f69cf4-545d-4db6-93b9-3ce18fc5c630",
   "metadata": {},
   "source": [
    "In this section, we fill in the missing data values."
   ]
  },
  {
   "cell_type": "code",
   "execution_count": 5,
   "id": "74b3d2e5-0e6a-4060-ba2a-08824c43a99d",
   "metadata": {},
   "outputs": [
    {
     "data": {
      "text/html": [
       "<div>\n",
       "<style scoped>\n",
       "    .dataframe tbody tr th:only-of-type {\n",
       "        vertical-align: middle;\n",
       "    }\n",
       "\n",
       "    .dataframe tbody tr th {\n",
       "        vertical-align: top;\n",
       "    }\n",
       "\n",
       "    .dataframe thead th {\n",
       "        text-align: right;\n",
       "    }\n",
       "</style>\n",
       "<table border=\"1\" class=\"dataframe\">\n",
       "  <thead>\n",
       "    <tr style=\"text-align: right;\">\n",
       "      <th></th>\n",
       "      <th>Number of missing values</th>\n",
       "    </tr>\n",
       "  </thead>\n",
       "  <tbody>\n",
       "    <tr>\n",
       "      <th>ph</th>\n",
       "      <td>491</td>\n",
       "    </tr>\n",
       "    <tr>\n",
       "      <th>Hardness</th>\n",
       "      <td>0</td>\n",
       "    </tr>\n",
       "    <tr>\n",
       "      <th>Solids</th>\n",
       "      <td>0</td>\n",
       "    </tr>\n",
       "    <tr>\n",
       "      <th>Chloramines</th>\n",
       "      <td>0</td>\n",
       "    </tr>\n",
       "    <tr>\n",
       "      <th>Sulfate</th>\n",
       "      <td>781</td>\n",
       "    </tr>\n",
       "    <tr>\n",
       "      <th>Conductivity</th>\n",
       "      <td>0</td>\n",
       "    </tr>\n",
       "    <tr>\n",
       "      <th>Organic_carbon</th>\n",
       "      <td>0</td>\n",
       "    </tr>\n",
       "    <tr>\n",
       "      <th>Trihalomethanes</th>\n",
       "      <td>162</td>\n",
       "    </tr>\n",
       "    <tr>\n",
       "      <th>Turbidity</th>\n",
       "      <td>0</td>\n",
       "    </tr>\n",
       "    <tr>\n",
       "      <th>Potability</th>\n",
       "      <td>0</td>\n",
       "    </tr>\n",
       "  </tbody>\n",
       "</table>\n",
       "</div>"
      ],
      "text/plain": [
       "                 Number of missing values\n",
       "ph                                    491\n",
       "Hardness                                0\n",
       "Solids                                  0\n",
       "Chloramines                             0\n",
       "Sulfate                               781\n",
       "Conductivity                            0\n",
       "Organic_carbon                          0\n",
       "Trihalomethanes                       162\n",
       "Turbidity                               0\n",
       "Potability                              0"
      ]
     },
     "execution_count": 5,
     "metadata": {},
     "output_type": "execute_result"
    }
   ],
   "source": [
    "data_is_none = data.isnull().sum()\n",
    "missing_data = pd.DataFrame({\"Number of missing values\": data_is_none})\n",
    "\n",
    "missing_data.head(10)"
   ]
  },
  {
   "cell_type": "markdown",
   "id": "796fa70f-8e46-4bb4-8ce0-460c117365f1",
   "metadata": {},
   "source": [
    "### Imputing missing values\n"
   ]
  },
  {
   "cell_type": "markdown",
   "id": "5ac9444c-8a83-4da9-8285-78fdd78c25fe",
   "metadata": {},
   "source": [
    "To impute missing values, we use KKNImputer from sklearn, which fills in the missing values using the k-nearest neighbors approach"
   ]
  },
  {
   "cell_type": "code",
   "execution_count": 6,
   "id": "8f5881da-4fa2-47c4-a5b8-c9e682c06380",
   "metadata": {},
   "outputs": [],
   "source": [
    "imputer = KNNImputer(weights='uniform')"
   ]
  },
  {
   "cell_type": "code",
   "execution_count": 7,
   "id": "91596635-efa3-42a3-88c5-01a28706a1aa",
   "metadata": {},
   "outputs": [],
   "source": [
    "data = imputer.fit_transform(data)"
   ]
  },
  {
   "cell_type": "markdown",
   "id": "2c6f0632-7b39-409c-9ce4-7119904f5ca3",
   "metadata": {},
   "source": [
    "Double check our code worked:"
   ]
  },
  {
   "cell_type": "code",
   "execution_count": 8,
   "id": "bad99868-b7bd-402b-a1c1-12b739da2601",
   "metadata": {},
   "outputs": [
    {
     "name": "stdout",
     "output_type": "stream",
     "text": [
      "                 Number of missing values\n",
      "ph                                      0\n",
      "Hardness                                0\n",
      "Solids                                  0\n",
      "Chloramines                             0\n",
      "Sulfate                                 0\n",
      "Conductivity                            0\n",
      "Organic_carbon                          0\n",
      "Trihalomethanes                         0\n",
      "Turbidity                               0\n",
      "Potability                              0\n"
     ]
    }
   ],
   "source": [
    "#convert it back to a dataframe\n",
    "data = pd.DataFrame(data, columns=data_constant.columns)\n",
    "data_is_none = data.isnull().sum()\n",
    "missing_data = pd.DataFrame({\"Number of missing values\": data_is_none})\n",
    "print(missing_data)"
   ]
  },
  {
   "cell_type": "markdown",
   "id": "e4725190-2151-416f-a2b6-d90039e8e092",
   "metadata": {},
   "source": [
    "## Normalizing the data"
   ]
  },
  {
   "cell_type": "code",
   "execution_count": 9,
   "id": "b20b3554-a70b-466f-8816-85860ee2a96d",
   "metadata": {
    "scrolled": true
   },
   "outputs": [],
   "source": [
    "data_array = data.to_numpy() #keeping data as a dataframe to make it accessible for future use"
   ]
  },
  {
   "cell_type": "code",
   "execution_count": 10,
   "id": "69c2699e-7524-4e02-8e45-94e870fbc1b0",
   "metadata": {},
   "outputs": [],
   "source": [
    "scaler = StandardScaler() #this will be used to normalize the data\n",
    "x_data = data_array[:,:-1]\n",
    "x_data = scaler.fit_transform(x_data)\n",
    "y_data = data_array[:,-1].ravel() #to make it a 1d array"
   ]
  },
  {
   "cell_type": "markdown",
   "id": "11561f3f-eb44-4218-9785-b5f5222c66fd",
   "metadata": {},
   "source": [
    "# Training the models"
   ]
  },
  {
   "cell_type": "markdown",
   "id": "6407d1e5-47dd-4460-833f-ae26e5217323",
   "metadata": {},
   "source": [
    "First we just seperate our data into training and test data"
   ]
  },
  {
   "cell_type": "code",
   "execution_count": 11,
   "id": "69ae9bb8-821a-4866-b9a8-0975d679700e",
   "metadata": {},
   "outputs": [],
   "source": [
    "x_train, x_test, y_train, y_test = train_test_split(x_data, y_data, test_size=0.2)"
   ]
  },
  {
   "cell_type": "markdown",
   "id": "324ce428-0352-4eee-8172-cc580cac05ab",
   "metadata": {},
   "source": [
    "Now we import our models"
   ]
  },
  {
   "cell_type": "code",
   "execution_count": 12,
   "id": "fa410e94-6960-4d9d-b846-ff15ee29c65e",
   "metadata": {},
   "outputs": [],
   "source": [
    "from sklearn.linear_model import LogisticRegression"
   ]
  },
  {
   "cell_type": "code",
   "execution_count": 13,
   "id": "62598c6e-4915-4ece-bc16-7df5d266697b",
   "metadata": {},
   "outputs": [
    {
     "data": {
      "text/html": [
       "<style>#sk-container-id-1 {color: black;}#sk-container-id-1 pre{padding: 0;}#sk-container-id-1 div.sk-toggleable {background-color: white;}#sk-container-id-1 label.sk-toggleable__label {cursor: pointer;display: block;width: 100%;margin-bottom: 0;padding: 0.3em;box-sizing: border-box;text-align: center;}#sk-container-id-1 label.sk-toggleable__label-arrow:before {content: \"▸\";float: left;margin-right: 0.25em;color: #696969;}#sk-container-id-1 label.sk-toggleable__label-arrow:hover:before {color: black;}#sk-container-id-1 div.sk-estimator:hover label.sk-toggleable__label-arrow:before {color: black;}#sk-container-id-1 div.sk-toggleable__content {max-height: 0;max-width: 0;overflow: hidden;text-align: left;background-color: #f0f8ff;}#sk-container-id-1 div.sk-toggleable__content pre {margin: 0.2em;color: black;border-radius: 0.25em;background-color: #f0f8ff;}#sk-container-id-1 input.sk-toggleable__control:checked~div.sk-toggleable__content {max-height: 200px;max-width: 100%;overflow: auto;}#sk-container-id-1 input.sk-toggleable__control:checked~label.sk-toggleable__label-arrow:before {content: \"▾\";}#sk-container-id-1 div.sk-estimator input.sk-toggleable__control:checked~label.sk-toggleable__label {background-color: #d4ebff;}#sk-container-id-1 div.sk-label input.sk-toggleable__control:checked~label.sk-toggleable__label {background-color: #d4ebff;}#sk-container-id-1 input.sk-hidden--visually {border: 0;clip: rect(1px 1px 1px 1px);clip: rect(1px, 1px, 1px, 1px);height: 1px;margin: -1px;overflow: hidden;padding: 0;position: absolute;width: 1px;}#sk-container-id-1 div.sk-estimator {font-family: monospace;background-color: #f0f8ff;border: 1px dotted black;border-radius: 0.25em;box-sizing: border-box;margin-bottom: 0.5em;}#sk-container-id-1 div.sk-estimator:hover {background-color: #d4ebff;}#sk-container-id-1 div.sk-parallel-item::after {content: \"\";width: 100%;border-bottom: 1px solid gray;flex-grow: 1;}#sk-container-id-1 div.sk-label:hover label.sk-toggleable__label {background-color: #d4ebff;}#sk-container-id-1 div.sk-serial::before {content: \"\";position: absolute;border-left: 1px solid gray;box-sizing: border-box;top: 0;bottom: 0;left: 50%;z-index: 0;}#sk-container-id-1 div.sk-serial {display: flex;flex-direction: column;align-items: center;background-color: white;padding-right: 0.2em;padding-left: 0.2em;position: relative;}#sk-container-id-1 div.sk-item {position: relative;z-index: 1;}#sk-container-id-1 div.sk-parallel {display: flex;align-items: stretch;justify-content: center;background-color: white;position: relative;}#sk-container-id-1 div.sk-item::before, #sk-container-id-1 div.sk-parallel-item::before {content: \"\";position: absolute;border-left: 1px solid gray;box-sizing: border-box;top: 0;bottom: 0;left: 50%;z-index: -1;}#sk-container-id-1 div.sk-parallel-item {display: flex;flex-direction: column;z-index: 1;position: relative;background-color: white;}#sk-container-id-1 div.sk-parallel-item:first-child::after {align-self: flex-end;width: 50%;}#sk-container-id-1 div.sk-parallel-item:last-child::after {align-self: flex-start;width: 50%;}#sk-container-id-1 div.sk-parallel-item:only-child::after {width: 0;}#sk-container-id-1 div.sk-dashed-wrapped {border: 1px dashed gray;margin: 0 0.4em 0.5em 0.4em;box-sizing: border-box;padding-bottom: 0.4em;background-color: white;}#sk-container-id-1 div.sk-label label {font-family: monospace;font-weight: bold;display: inline-block;line-height: 1.2em;}#sk-container-id-1 div.sk-label-container {text-align: center;}#sk-container-id-1 div.sk-container {/* jupyter's `normalize.less` sets `[hidden] { display: none; }` but bootstrap.min.css set `[hidden] { display: none !important; }` so we also need the `!important` here to be able to override the default hidden behavior on the sphinx rendered scikit-learn.org. See: https://github.com/scikit-learn/scikit-learn/issues/21755 */display: inline-block !important;position: relative;}#sk-container-id-1 div.sk-text-repr-fallback {display: none;}</style><div id=\"sk-container-id-1\" class=\"sk-top-container\"><div class=\"sk-text-repr-fallback\"><pre>LogisticRegression()</pre><b>In a Jupyter environment, please rerun this cell to show the HTML representation or trust the notebook. <br />On GitHub, the HTML representation is unable to render, please try loading this page with nbviewer.org.</b></div><div class=\"sk-container\" hidden><div class=\"sk-item\"><div class=\"sk-estimator sk-toggleable\"><input class=\"sk-toggleable__control sk-hidden--visually\" id=\"sk-estimator-id-1\" type=\"checkbox\" checked><label for=\"sk-estimator-id-1\" class=\"sk-toggleable__label sk-toggleable__label-arrow\">LogisticRegression</label><div class=\"sk-toggleable__content\"><pre>LogisticRegression()</pre></div></div></div></div></div>"
      ],
      "text/plain": [
       "LogisticRegression()"
      ]
     },
     "execution_count": 13,
     "metadata": {},
     "output_type": "execute_result"
    }
   ],
   "source": [
    "lr = LogisticRegression()\n",
    "lr.fit(x_train, y_train)"
   ]
  },
  {
   "cell_type": "code",
   "execution_count": 14,
   "id": "0f12500a-1a0e-4926-8051-57bd412987ad",
   "metadata": {},
   "outputs": [
    {
     "name": "stdout",
     "output_type": "stream",
     "text": [
      "0.6173780487804879\n"
     ]
    }
   ],
   "source": [
    "print(lr.score(x_test, y_test))"
   ]
  },
  {
   "cell_type": "markdown",
   "id": "db08cb64-5616-4a7e-8d11-0e1beae9312e",
   "metadata": {},
   "source": [
    "That score is not particularly good. We can see why when with further analysis"
   ]
  },
  {
   "cell_type": "markdown",
   "id": "97227ce1-6237-430d-9bbc-de9e0c97f556",
   "metadata": {},
   "source": [
    "# Iteration\n",
    "The above numbers might not sound *terrible*, but look at what the model is actually predicting. We can break up the answer data into two ararys: those which are class 0 and class 1. We do the same for the model predictions"
   ]
  },
  {
   "cell_type": "code",
   "execution_count": 15,
   "id": "0cefd5c2-cac1-4a75-9b7f-0aa0e714b846",
   "metadata": {},
   "outputs": [],
   "source": [
    "def countModelPredictions(model, x_test, y_test):\n",
    "    test_predictions = model.predict(x_test)\n",
    "    numCorrectOnes = 0\n",
    "    numFalseOnes = 0\n",
    "    numCorrectZeros = 0\n",
    "    numFalseZeros = 0\n",
    "    for i in range(len(test_predictions)):\n",
    "        if test_predictions[i] == 1 and y_test[i] == 1:\n",
    "            numCorrectOnes += 1\n",
    "        elif test_predictions[i]==1 and y_test[i] == 0:\n",
    "            numFalseOnes += 1\n",
    "        elif test_predictions[i]==0 and y_test[i]==0:\n",
    "            numCorrectZeros += 1\n",
    "        else:\n",
    "            numFalseZeros += 1\n",
    "    print(\"Predicted \" + str(numCorrectOnes) + \" correct ones\")\n",
    "    print(\"Predicted \" + str(numFalseOnes) + \" false ones\")\n",
    "    print(\"Predicted \" + str(numCorrectZeros) + \" correct zeros\")\n",
    "    print(\"Predicted \" + str(numFalseZeros) + \" false zeros\")"
   ]
  },
  {
   "cell_type": "code",
   "execution_count": 16,
   "id": "972fdf56-c0ac-43d3-ba07-3a2edae0ef0e",
   "metadata": {},
   "outputs": [
    {
     "name": "stdout",
     "output_type": "stream",
     "text": [
      "Predicted 0 correct ones\n",
      "Predicted 1 false ones\n",
      "Predicted 405 correct zeros\n",
      "Predicted 250 false zeros\n"
     ]
    }
   ],
   "source": [
    "countModelPredictions(lr, x_test, y_test)"
   ]
  },
  {
   "cell_type": "markdown",
   "id": "4b691571-bbfc-4e48-8f59-3fa8f96aefab",
   "metadata": {},
   "source": [
    "As you can see, the model basically just predicts that every value is a zero. We can look in our data and see that it is actually somewhat unbalanced."
   ]
  },
  {
   "cell_type": "code",
   "execution_count": 17,
   "id": "41f45736-3f9d-4cab-9bb2-4a960fc2fffb",
   "metadata": {},
   "outputs": [
    {
     "name": "stdout",
     "output_type": "stream",
     "text": [
      "Number of zeros in the data: 1998\n",
      "Number of ones in the data: 1278\n"
     ]
    }
   ],
   "source": [
    "print(\"Number of zeros in the data: \" + str(len(data[data['Potability']==0])))\n",
    "print(\"Number of ones in the data: \" + str(len(data[data['Potability']==1])))"
   ]
  },
  {
   "cell_type": "markdown",
   "id": "cb425324-f876-43d3-8478-df66524b5cbf",
   "metadata": {},
   "source": [
    "### Class weighting\n",
    "Our data is unbalanced, but it does not seem to be unworkable. We could remove the extra data points with 0-labels from our dataset, but that might not be necessary.\n",
    "We first use class weighting, which is built into scikit-learn\n",
    "\n",
    "Class-weighting is a built-in parameter to scikit-learns LogisticRegression class."
   ]
  },
  {
   "cell_type": "code",
   "execution_count": 18,
   "id": "3c097f87-581c-4a0c-9949-9d9764e7b09a",
   "metadata": {},
   "outputs": [],
   "source": [
    "lr = LogisticRegression(class_weight='balanced')"
   ]
  },
  {
   "cell_type": "code",
   "execution_count": 19,
   "id": "38c5df00-beaf-485e-808f-1a9da46bc121",
   "metadata": {},
   "outputs": [
    {
     "data": {
      "text/html": [
       "<style>#sk-container-id-2 {color: black;}#sk-container-id-2 pre{padding: 0;}#sk-container-id-2 div.sk-toggleable {background-color: white;}#sk-container-id-2 label.sk-toggleable__label {cursor: pointer;display: block;width: 100%;margin-bottom: 0;padding: 0.3em;box-sizing: border-box;text-align: center;}#sk-container-id-2 label.sk-toggleable__label-arrow:before {content: \"▸\";float: left;margin-right: 0.25em;color: #696969;}#sk-container-id-2 label.sk-toggleable__label-arrow:hover:before {color: black;}#sk-container-id-2 div.sk-estimator:hover label.sk-toggleable__label-arrow:before {color: black;}#sk-container-id-2 div.sk-toggleable__content {max-height: 0;max-width: 0;overflow: hidden;text-align: left;background-color: #f0f8ff;}#sk-container-id-2 div.sk-toggleable__content pre {margin: 0.2em;color: black;border-radius: 0.25em;background-color: #f0f8ff;}#sk-container-id-2 input.sk-toggleable__control:checked~div.sk-toggleable__content {max-height: 200px;max-width: 100%;overflow: auto;}#sk-container-id-2 input.sk-toggleable__control:checked~label.sk-toggleable__label-arrow:before {content: \"▾\";}#sk-container-id-2 div.sk-estimator input.sk-toggleable__control:checked~label.sk-toggleable__label {background-color: #d4ebff;}#sk-container-id-2 div.sk-label input.sk-toggleable__control:checked~label.sk-toggleable__label {background-color: #d4ebff;}#sk-container-id-2 input.sk-hidden--visually {border: 0;clip: rect(1px 1px 1px 1px);clip: rect(1px, 1px, 1px, 1px);height: 1px;margin: -1px;overflow: hidden;padding: 0;position: absolute;width: 1px;}#sk-container-id-2 div.sk-estimator {font-family: monospace;background-color: #f0f8ff;border: 1px dotted black;border-radius: 0.25em;box-sizing: border-box;margin-bottom: 0.5em;}#sk-container-id-2 div.sk-estimator:hover {background-color: #d4ebff;}#sk-container-id-2 div.sk-parallel-item::after {content: \"\";width: 100%;border-bottom: 1px solid gray;flex-grow: 1;}#sk-container-id-2 div.sk-label:hover label.sk-toggleable__label {background-color: #d4ebff;}#sk-container-id-2 div.sk-serial::before {content: \"\";position: absolute;border-left: 1px solid gray;box-sizing: border-box;top: 0;bottom: 0;left: 50%;z-index: 0;}#sk-container-id-2 div.sk-serial {display: flex;flex-direction: column;align-items: center;background-color: white;padding-right: 0.2em;padding-left: 0.2em;position: relative;}#sk-container-id-2 div.sk-item {position: relative;z-index: 1;}#sk-container-id-2 div.sk-parallel {display: flex;align-items: stretch;justify-content: center;background-color: white;position: relative;}#sk-container-id-2 div.sk-item::before, #sk-container-id-2 div.sk-parallel-item::before {content: \"\";position: absolute;border-left: 1px solid gray;box-sizing: border-box;top: 0;bottom: 0;left: 50%;z-index: -1;}#sk-container-id-2 div.sk-parallel-item {display: flex;flex-direction: column;z-index: 1;position: relative;background-color: white;}#sk-container-id-2 div.sk-parallel-item:first-child::after {align-self: flex-end;width: 50%;}#sk-container-id-2 div.sk-parallel-item:last-child::after {align-self: flex-start;width: 50%;}#sk-container-id-2 div.sk-parallel-item:only-child::after {width: 0;}#sk-container-id-2 div.sk-dashed-wrapped {border: 1px dashed gray;margin: 0 0.4em 0.5em 0.4em;box-sizing: border-box;padding-bottom: 0.4em;background-color: white;}#sk-container-id-2 div.sk-label label {font-family: monospace;font-weight: bold;display: inline-block;line-height: 1.2em;}#sk-container-id-2 div.sk-label-container {text-align: center;}#sk-container-id-2 div.sk-container {/* jupyter's `normalize.less` sets `[hidden] { display: none; }` but bootstrap.min.css set `[hidden] { display: none !important; }` so we also need the `!important` here to be able to override the default hidden behavior on the sphinx rendered scikit-learn.org. See: https://github.com/scikit-learn/scikit-learn/issues/21755 */display: inline-block !important;position: relative;}#sk-container-id-2 div.sk-text-repr-fallback {display: none;}</style><div id=\"sk-container-id-2\" class=\"sk-top-container\"><div class=\"sk-text-repr-fallback\"><pre>LogisticRegression(class_weight=&#x27;balanced&#x27;)</pre><b>In a Jupyter environment, please rerun this cell to show the HTML representation or trust the notebook. <br />On GitHub, the HTML representation is unable to render, please try loading this page with nbviewer.org.</b></div><div class=\"sk-container\" hidden><div class=\"sk-item\"><div class=\"sk-estimator sk-toggleable\"><input class=\"sk-toggleable__control sk-hidden--visually\" id=\"sk-estimator-id-2\" type=\"checkbox\" checked><label for=\"sk-estimator-id-2\" class=\"sk-toggleable__label sk-toggleable__label-arrow\">LogisticRegression</label><div class=\"sk-toggleable__content\"><pre>LogisticRegression(class_weight=&#x27;balanced&#x27;)</pre></div></div></div></div></div>"
      ],
      "text/plain": [
       "LogisticRegression(class_weight='balanced')"
      ]
     },
     "execution_count": 19,
     "metadata": {},
     "output_type": "execute_result"
    }
   ],
   "source": [
    "lr.fit(x_train, y_train)"
   ]
  },
  {
   "cell_type": "code",
   "execution_count": 20,
   "id": "d5d86e6d-58da-420a-81bd-1955d74a8d86",
   "metadata": {},
   "outputs": [
    {
     "name": "stdout",
     "output_type": "stream",
     "text": [
      "Predicted 128 correct ones\n",
      "Predicted 210 false ones\n",
      "Predicted 196 correct zeros\n",
      "Predicted 122 false zeros\n"
     ]
    }
   ],
   "source": [
    "countModelPredictions(lr, x_test, y_test)"
   ]
  },
  {
   "cell_type": "markdown",
   "id": "feef4997-5eda-4781-b4ee-32ba345727f9",
   "metadata": {},
   "source": [
    "As we can see above, the model is now **significantly more accurate** when predicting the label is 1 (previously it would have guess almost all of them were 0's).\n",
    "However, that has come at the cost of overall accuracy. There is still a very significant number of missed ones, and our overall accuracy has been reduced:"
   ]
  },
  {
   "cell_type": "code",
   "execution_count": 21,
   "id": "83cc8f73-f11f-4d5e-9f2d-cfa8f3f1528a",
   "metadata": {
    "scrolled": true
   },
   "outputs": [
    {
     "name": "stdout",
     "output_type": "stream",
     "text": [
      "Models score: 0.49390243902439024\n"
     ]
    }
   ],
   "source": [
    "print(\"Models score: \" + str(lr.score(x_test, y_test)))"
   ]
  },
  {
   "cell_type": "markdown",
   "id": "036455d3-d83b-418d-bf8c-d269919985e9",
   "metadata": {},
   "source": [
    "## Removing extra labels\n",
    "Since we have too many data points that are labelled 0, one approach is to remove the extra so that the number of 1-labels and 0-labels is equal. However, that never yields more than 55% accuracy"
   ]
  },
  {
   "cell_type": "code",
   "execution_count": 22,
   "id": "599d9a7b-de00-4116-9017-8babcacc43c3",
   "metadata": {},
   "outputs": [
    {
     "name": "stdout",
     "output_type": "stream",
     "text": [
      "0.5039525691699605\n",
      "Predicted 709 correct ones\n",
      "Predicted 647 false ones\n",
      "Predicted 346 correct zeros\n",
      "Predicted 319 false zeros\n"
     ]
    }
   ],
   "source": [
    "data_zeros = data[data['Potability']==0]\n",
    "data_zeros = data_zeros.sample(frac=15/24)\n",
    "data_ones = data[data['Potability']==1]\n",
    "data_zeros.head(20)\n",
    "data_balanced = pd.concat([data_zeros, data_ones]).sample(frac=1).reset_index(drop=True).to_numpy()\n",
    "x_balanced = data_balanced[:,:-1]\n",
    "\n",
    "scaler = StandardScaler()\n",
    "x_balanced = scaler.fit_transform(x_balanced)\n",
    "y_balanced = data_balanced[:,-1:].ravel()\n",
    "\n",
    "x_train_balanced, x_test_balanced, y_train_balanced, y_test_balanced = train_test_split(x_balanced, y_balanced, test_size=0.2)\n",
    "\n",
    "lr = LogisticRegression()\n",
    "lr.fit(x_train_balanced, y_train_balanced)\n",
    "print(lr.score(x_test_balanced, y_test_balanced))\n",
    "\n",
    "countModelPredictions(lr, x_train_balanced, y_train_balanced)"
   ]
  },
  {
   "attachments": {},
   "cell_type": "markdown",
   "id": "eb968792-df3a-4bb0-b9b6-1db1a5853e42",
   "metadata": {},
   "source": [
    "After extensively testing the hyperparameters in the model, we found that the score doesn't really go past this number, so we have reached the upper limit of what can be achieved simply with scikit-learn's LogisticRegression."
   ]
  },
  {
   "cell_type": "markdown",
   "id": "a1510886-9a4a-4def-b62c-7e7a1a7b4423",
   "metadata": {},
   "source": [
    "### Support vector machines"
   ]
  },
  {
   "cell_type": "markdown",
   "id": "403117bb-e094-4f0d-b326-6c790239c26f",
   "metadata": {},
   "source": [
    "Another thing we can try is support vector machines rather than logistic regression. We will also try ensemble methods to see if that affects the accuracy"
   ]
  },
  {
   "cell_type": "code",
   "execution_count": 23,
   "id": "7c3756da-4fb0-496a-b535-fc0c366eb311",
   "metadata": {},
   "outputs": [],
   "source": [
    "from sklearn.svm import LinearSVC"
   ]
  },
  {
   "cell_type": "code",
   "execution_count": 24,
   "id": "06888f6f-4e9a-4995-b358-ab05ccca3e59",
   "metadata": {},
   "outputs": [
    {
     "name": "stdout",
     "output_type": "stream",
     "text": [
      "0.6173780487804879\n"
     ]
    }
   ],
   "source": [
    "y_train = y_train * 2 - 1 #Since support vector machines use -1 and 1's as the data labels, we are converting our data labels from 0 and 1 to -1 and 1\n",
    "y_test = y_test * 2 -1\n",
    "\n",
    "svc = LinearSVC(dual=False)\n",
    "\n",
    "\n",
    "svc.fit(x_train, y_train)\n",
    "print(svc.score(x_test, y_test))"
   ]
  },
  {
   "cell_type": "markdown",
   "id": "245ba434-b427-4fc0-8ef9-7eff196abb49",
   "metadata": {},
   "source": [
    "While that is a little better, lets see if it is accurately predicting ones:"
   ]
  },
  {
   "cell_type": "code",
   "execution_count": 25,
   "id": "150849b3-9d78-4b82-a578-6daca7431fc0",
   "metadata": {},
   "outputs": [],
   "source": [
    "def countModelPredictions_SVC(model, x_test, y_test):\n",
    "    #we are re-writing this function for SVC's since SVCs use -1 and 1 rather than 0 and 1\n",
    "    test_predictions = model.predict(x_test)\n",
    "    numCorrectOnes = 0\n",
    "    numFalseOnes = 0\n",
    "    numCorrectZeros = 0\n",
    "    numFalseZeros = 0\n",
    "    for i in range(len(test_predictions)):\n",
    "        if test_predictions[i] == 1 and y_test[i] == 1:\n",
    "            numCorrectOnes += 1\n",
    "        elif test_predictions[i]==1 and y_test[i] == -1:\n",
    "            numFalseOnes += 1\n",
    "        elif test_predictions[i]==-1 and y_test[i]==-1:\n",
    "            numCorrectZeros += 1\n",
    "        else:\n",
    "            numFalseZeros += 1\n",
    "    print(\"Predicted \" + str(numCorrectOnes) + \" correct ones\")\n",
    "    print(\"Predicted \" + str(numFalseOnes) + \" false ones\")\n",
    "    print(\"Predicted \" + str(numCorrectZeros) + \" correct zeros\")\n",
    "    print(\"Predicted \" + str(numFalseZeros) + \" false zeros\")"
   ]
  },
  {
   "cell_type": "code",
   "execution_count": 26,
   "id": "c59677fa-18c1-4d2f-93c7-ce09ed032c0d",
   "metadata": {},
   "outputs": [
    {
     "name": "stdout",
     "output_type": "stream",
     "text": [
      "Predicted 0 correct ones\n",
      "Predicted 1 false ones\n",
      "Predicted 405 correct zeros\n",
      "Predicted 250 false zeros\n"
     ]
    }
   ],
   "source": [
    "countModelPredictions_SVC(svc, x_test, y_test)"
   ]
  },
  {
   "cell_type": "code",
   "execution_count": 27,
   "id": "02561bfa-248e-45da-970b-550e35e1234f",
   "metadata": {},
   "outputs": [],
   "source": [
    "from sklearn.ensemble import StackingClassifier, AdaBoostClassifier"
   ]
  },
  {
   "cell_type": "code",
   "execution_count": 28,
   "id": "3d6b5a82-a190-4323-9d39-c830fd5b3639",
   "metadata": {},
   "outputs": [
    {
     "name": "stdout",
     "output_type": "stream",
     "text": [
      "Ada boost SVC score:  0.6173780487804879\n",
      "Ada boost Logistic Regression score:  0.6173780487804879\n"
     ]
    }
   ],
   "source": [
    "ada_SVCclassifier = AdaBoostClassifier(estimator=LinearSVC(dual='auto'), n_estimators=50, algorithm='SAMME', random_state=1)\n",
    "ada_SVCclassifier.fit(x_train, y_train)\n",
    "ada_SVCclassifier.score(x_test, y_test)\n",
    "\n",
    "ada_LRclassifier = AdaBoostClassifier(estimator=LogisticRegression(), n_estimators=50)\n",
    "ada_LRclassifier.fit(x_train, y_train)\n",
    "\n",
    "print(\"Ada boost SVC score: \", ada_SVCclassifier.score(x_test, y_test))\n",
    "print(\"Ada boost Logistic Regression score: \", ada_LRclassifier.score(x_test, y_test))"
   ]
  },
  {
   "cell_type": "markdown",
   "id": "f93921a1-ae0e-42dd-a2ea-8165bb5b8e22",
   "metadata": {},
   "source": [
    "# Analysis"
   ]
  },
  {
   "cell_type": "markdown",
   "id": "e1c22edd-b282-4cda-9409-ed6fede6d8aa",
   "metadata": {},
   "source": [
    "Below, we are trying to see if there is any correlation between the values of the different features and the outcome"
   ]
  },
  {
   "cell_type": "code",
   "execution_count": 29,
   "id": "fc634bf0-10f4-43c7-948c-92c8ddaf429a",
   "metadata": {
    "scrolled": true
   },
   "outputs": [
    {
     "data": {
      "image/png": "[encoded data removed]",
      "text/plain": [
       "<Figure size 1200x1200 with 9 Axes>"
      ]
     },
     "metadata": {},
     "output_type": "display_data"
    }
   ],
   "source": [
    "fig, ax = plt.subplots(nrows=3, ncols=3, figsize=(12, 12))\n",
    "for i in range(len(ax)):\n",
    "    x_corresponding_to_0 = data_array[data_array[:,-1] == 0][:,:-1]\n",
    "    x_corresponding_to_1 = data_array[data_array[:,-1] == 1][:-1]\n",
    "    for j in range(len(ax)):\n",
    "        ax[i, j].hist(x_corresponding_to_0[:,3*i+j], edgecolor='white')\n",
    "        ax[i, j].hist(x_corresponding_to_1[:,3*i+j], edgecolor='black')\n",
    "        ax[i,j].set(xlabel=data.columns[3*i+j])\n",
    "\n",
    "plt.show()"
   ]
  },
  {
   "cell_type": "markdown",
   "id": "d6d03680-0d11-4c24-bb94-b269e81d6559",
   "metadata": {},
   "source": [
    "We can see very clearly here that the distributions of the values of each feature is more or less the same for both the non-potable and the potable water. Combined with poor results we got from our models, this leads us to conclude that there is not a very strong correlation between the data features and the outcome."
   ]
  },
  {
   "cell_type": "code",
   "execution_count": null,
   "id": "2286d37e-0299-4170-9c3d-33d462e106b2",
   "metadata": {},
   "outputs": [],
   "source": []
  }
 ],
 "metadata": {
  "kernelspec": {
   "display_name": "Python 3 (ipykernel)",
   "language": "python",
   "name": "python3"
  },
  "language_info": {
   "codemirror_mode": {
    "name": "ipython",
    "version": 3
   },
   "file_extension": ".py",
   "mimetype": "text/x-python",
   "name": "python",
   "nbconvert_exporter": "python",
   "pygments_lexer": "ipython3",
   "version": "3.11.4"
  }
 },
 "nbformat": 4,
 "nbformat_minor": 5
}
