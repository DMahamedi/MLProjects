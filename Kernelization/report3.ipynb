{
 "cells": [
  {
   "cell_type": "code",
   "execution_count": 1,
   "id": "915cd798-f554-4cc4-a310-340fd10506ca",
   "metadata": {},
   "outputs": [],
   "source": [
    "%matplotlib inline\n",
    "import numpy as np\n",
    "import pandas as pd\n",
    "import matplotlib.pyplot as plt\n",
    "from matplotlib import cm\n",
    "from sklearn.preprocessing import StandardScaler"
   ]
  },
  {
   "cell_type": "markdown",
   "id": "7b1ec633-0d16-4b83-9f44-f4ecadc4336e",
   "metadata": {},
   "source": [
    "# Data Preprocessing"
   ]
  },
  {
   "cell_type": "code",
   "execution_count": 2,
   "id": "7329451f-2f7e-465c-a419-1f77cbe93039",
   "metadata": {},
   "outputs": [],
   "source": [
    "student_data = pd.read_csv('./data.csv', delimiter=';') #reading the csv through excel showed me that the values were seperated by ';'\n",
    "#because of that I have to specify the delimiter as ';' to prevent all the data entries from being stored as one feature"
   ]
  },
  {
   "cell_type": "markdown",
   "id": "7f6d84d0-ada4-4543-a8a8-729d3ecb2cd6",
   "metadata": {},
   "source": [
    "### Checking for Null Values"
   ]
  },
  {
   "cell_type": "code",
   "execution_count": 3,
   "id": "ef951747-0735-43e7-a1f4-96a8083bc181",
   "metadata": {},
   "outputs": [],
   "source": [
    "empty_vals = pd.DataFrame(student_data.isnull().sum(), columns=['Is null'])"
   ]
  },
  {
   "cell_type": "code",
   "execution_count": 4,
   "id": "d1611412-aa07-408c-a9f8-e7d7b2a455ee",
   "metadata": {},
   "outputs": [
    {
     "data": {
      "text/plain": [
       "Is null    0\n",
       "dtype: int64"
      ]
     },
     "execution_count": 4,
     "metadata": {},
     "output_type": "execute_result"
    }
   ],
   "source": [
    "empty_vals.sum()"
   ]
  },
  {
   "cell_type": "markdown",
   "id": "eb36de2c-7f00-4786-9489-5c8a58882fe2",
   "metadata": {},
   "source": [
    "As we can see above, the authors of this dataset have already imputed missing values so there is nothing to fix in that regard"
   ]
  },
  {
   "cell_type": "markdown",
   "id": "dd442111-5c47-432b-ae6e-5a2a9493cb1b",
   "metadata": {},
   "source": [
    "### Encode the target label\n",
    "Here we are simpling converting the target to a numerical value, rather than 'Dropped', 'Enrolled', or 'Graduate'"
   ]
  },
  {
   "cell_type": "code",
   "execution_count": 5,
   "id": "c6891083-b4e0-4aca-8424-b0cd4b5df940",
   "metadata": {},
   "outputs": [],
   "source": [
    "X, Y = student_data.iloc[:,:-1], student_data.iloc[:,-1:]"
   ]
  },
  {
   "cell_type": "code",
   "execution_count": 6,
   "id": "7671fe77-c413-4665-9ab8-340e3c48bfda",
   "metadata": {},
   "outputs": [],
   "source": [
    "X = X.to_numpy()\n",
    "Y = Y.to_numpy()\n",
    "Y = Y.ravel()"
   ]
  },
  {
   "cell_type": "code",
   "execution_count": 7,
   "id": "5393dcd9-dac1-4e4c-adb9-1b52bc2fad3c",
   "metadata": {},
   "outputs": [],
   "source": [
    "from sklearn.preprocessing import LabelEncoder"
   ]
  },
  {
   "cell_type": "code",
   "execution_count": 8,
   "id": "9c063718-c523-4efd-9de9-bc452a9b7404",
   "metadata": {},
   "outputs": [
    {
     "name": "stdout",
     "output_type": "stream",
     "text": [
      "[0 2 0 ... 0 2 2]\n"
     ]
    }
   ],
   "source": [
    "le = LabelEncoder()\n",
    "Y = le.fit_transform(Y)\n",
    "print(Y)"
   ]
  },
  {
   "cell_type": "code",
   "execution_count": 9,
   "id": "62f2dd15-3cc5-4c45-9102-7cfe2c4d35bb",
   "metadata": {},
   "outputs": [
    {
     "name": "stdout",
     "output_type": "stream",
     "text": [
      "Number that graduated: 2209\n",
      "Number that were still enrolled: 794\n",
      "Number that dropped: 1421\n"
     ]
    }
   ],
   "source": [
    "num_dropped = np.count_nonzero(Y==0)\n",
    "num_enrolled = np.count_nonzero(Y==1)\n",
    "num_graduated = np.count_nonzero(Y==2)\n",
    "print(f\"Number that graduated: {num_graduated}\")\n",
    "print(f\"Number that were still enrolled: {num_enrolled}\")\n",
    "print(f\"Number that dropped: {num_dropped}\")"
   ]
  },
  {
   "cell_type": "markdown",
   "id": "42dd51b9-52a4-44a2-8115-722aacf7b477",
   "metadata": {},
   "source": [
    "### Normalize the data"
   ]
  },
  {
   "cell_type": "code",
   "execution_count": 10,
   "id": "9b922b0b-a5b8-49b6-8c2a-280e1ea83f51",
   "metadata": {},
   "outputs": [],
   "source": [
    "scaler = StandardScaler()\n",
    "X = scaler.fit_transform(X)"
   ]
  },
  {
   "cell_type": "markdown",
   "id": "f6baff32-7d3b-4f31-a7d8-95af1bc91e3a",
   "metadata": {},
   "source": [
    "# Evaluating the Models"
   ]
  },
  {
   "cell_type": "code",
   "execution_count": 11,
   "id": "e8605057-337d-4824-b3a1-76a7de2e100f",
   "metadata": {},
   "outputs": [],
   "source": [
    "from sklearn.svm import LinearSVC, SVC\n",
    "from sklearn.model_selection import train_test_split"
   ]
  },
  {
   "cell_type": "code",
   "execution_count": 12,
   "id": "64fea9e2-28d2-41c6-85b0-e3c5f70950af",
   "metadata": {},
   "outputs": [],
   "source": [
    "x_train, x_test, y_train, y_test = train_test_split(X, Y)\n",
    "svc_linear = SVC(kernel='linear', max_iter=1000000)\n",
    "svc_poly = SVC(kernel='poly')\n",
    "svc_radial = SVC(kernel='rbf')"
   ]
  },
  {
   "cell_type": "code",
   "execution_count": 13,
   "id": "f185d6cb-491c-49a6-bab4-86bd97a74587",
   "metadata": {},
   "outputs": [
    {
     "name": "stdout",
     "output_type": "stream",
     "text": [
      "Linear kernel score: 0.7902350813743219\n",
      "Polynomial kernel score: 0.7079566003616636\n",
      "Radial (rbf) kernel score: 0.7766726943942134\n"
     ]
    }
   ],
   "source": [
    "svc_linear.fit(x_train, y_train)\n",
    "svc_poly.fit(x_train, y_train)\n",
    "svc_radial.fit(x_train, y_train)\n",
    "print(f\"Linear kernel score: {svc_linear.score(x_test, y_test)}\")\n",
    "print(f\"Polynomial kernel score: {svc_poly.score(x_test, y_test)}\")\n",
    "print(f\"Radial (rbf) kernel score: {svc_radial.score(x_test, y_test)}\")"
   ]
  },
  {
   "cell_type": "markdown",
   "id": "90bcb1ec-7d61-4c55-a7fd-58408e313a5d",
   "metadata": {},
   "source": [
    "### Cross validation"
   ]
  },
  {
   "cell_type": "code",
   "execution_count": 14,
   "id": "fb0f707c-d5a9-43f9-b1f0-d51efd429945",
   "metadata": {},
   "outputs": [],
   "source": [
    "from sklearn.model_selection import StratifiedShuffleSplit, cross_val_score\n",
    "#this combines the stratified KFold with the ShuffleSplit"
   ]
  },
  {
   "cell_type": "code",
   "execution_count": 15,
   "id": "4097e6f8-21f0-4779-8cd6-a01155c3dce1",
   "metadata": {},
   "outputs": [],
   "source": [
    "sss = StratifiedShuffleSplit(test_size=0.4)\n",
    "models=[SVC(kernel='linear'), SVC(kernel='poly'), SVC(kernel='rbf')]"
   ]
  },
  {
   "cell_type": "code",
   "execution_count": 16,
   "id": "ddd03c4f-d380-48a2-94e0-1400cb302fbc",
   "metadata": {},
   "outputs": [
    {
     "name": "stdout",
     "output_type": "stream",
     "text": [
      "linear: 0.7566 accuracy\n",
      "poly: 0.6995 accuracy\n",
      "rbf: 0.7448 accuracy\n"
     ]
    }
   ],
   "source": [
    "#credit to chatgpt for the code below\n",
    "for model in models:\n",
    "    scores = cross_val_score(model, x_train, y_train, cv=sss, scoring='accuracy')\n",
    "    print(f\"{model.kernel}: {scores.mean():.4f} accuracy\")"
   ]
  },
  {
   "cell_type": "markdown",
   "id": "3e1e3830-6732-4c7c-be42-68b70e36bca5",
   "metadata": {},
   "source": [
    "We can see that overall, the linear model is more accurate than the polynomial or rbf kernels. However, the difference in accuracy between the linear and rbf kernels is small enough that we will still consider the rbf kernel for further testing (it may turn out that rbf can outperform the linear kernel given the right hyper parameters).\n"
   ]
  },
  {
   "cell_type": "markdown",
   "id": "cab3d2ec-8103-4e12-9840-9cf2893d38a2",
   "metadata": {},
   "source": [
    "Lets also check the confusion matrices of the rbf and linear models:"
   ]
  },
  {
   "cell_type": "code",
   "execution_count": 17,
   "id": "6133adaf-29e3-4236-a487-26e013673121",
   "metadata": {},
   "outputs": [],
   "source": [
    "from sklearn.metrics import confusion_matrix\n",
    "\n",
    "svc_radial.fit(x_train, y_train)\n",
    "svc_linear.fit(x_train, y_train)\n",
    "\n",
    "radial_predictions = svc_radial.predict(x_test)\n",
    "linear_predictions = svc_linear.predict(x_test)\n",
    "\n",
    "radial_confusion = confusion_matrix(radial_predictions, y_test)\n",
    "linear_confusion = confusion_matrix(linear_predictions, y_test)"
   ]
  },
  {
   "cell_type": "code",
   "execution_count": 18,
   "id": "780e8e33-7c4a-44be-ab4e-0056b36da151",
   "metadata": {},
   "outputs": [
    {
     "name": "stdout",
     "output_type": "stream",
     "text": [
      "radial confusion matrix:\n",
      "[[266  36  13]\n",
      " [ 41  76  11]\n",
      " [ 62  84 517]]\n",
      "\n",
      "linear confusion matrix:\n",
      "[[274  41  10]\n",
      " [ 39  80  11]\n",
      " [ 56  75 520]]\n"
     ]
    }
   ],
   "source": [
    "print(\"radial confusion matrix:\")\n",
    "print(radial_confusion)\n",
    "print()\n",
    "print(\"linear confusion matrix:\")\n",
    "print(linear_confusion)"
   ]
  },
  {
   "cell_type": "markdown",
   "id": "7f026c12-fc26-4581-a793-3a7d3429fcd1",
   "metadata": {},
   "source": [
    "With a confusion matrix, the diagonal tells us the number of accurate labels for each class. It looks like the middle column (which is the students who are still enrolled) is biggest barrier to accuracy"
   ]
  },
  {
   "cell_type": "markdown",
   "id": "43d40192-cdb4-4200-bf9f-605ff7079a5c",
   "metadata": {},
   "source": [
    "## Optimizing Hyperparameters\n",
    "Lets first try to see how much we can improve accuracy just by adjusting the hyperparameters"
   ]
  },
  {
   "cell_type": "code",
   "execution_count": 19,
   "id": "f2bbf223-9788-4f28-81b1-ec2e3f32d968",
   "metadata": {},
   "outputs": [],
   "source": [
    "from sklearn.model_selection import RandomizedSearchCV"
   ]
  },
  {
   "cell_type": "code",
   "execution_count": 20,
   "id": "f9f83750-4c6a-45e9-8da8-6aba18a7977c",
   "metadata": {},
   "outputs": [],
   "source": [
    "#chatGPT wrote the following  (and the code in the next cell)\n",
    "from scipy.stats import uniform, randint\n",
    "param_dist_svc = {\n",
    "    'C': uniform(0.1, 10),            # Penalty parameter C of the error term\n",
    "    'kernel': ['linear'],  # Kernel type\n",
    "    'gamma': ['scale', 'auto'] + list(np.logspace(-3, 3, 7)),  # Kernel coefficient for 'rbf'\n",
    "    # 'degree': randint(2, 5),           # Degree of the polynomial kernel ('poly')\n",
    "    'coef0': uniform(-1, 1)            # Independent term in kernel function\n",
    "}\n"
   ]
  },
  {
   "cell_type": "code",
   "execution_count": 21,
   "id": "686d836c-2ae7-49d0-a265-6f7e6e6ac40f",
   "metadata": {},
   "outputs": [
    {
     "name": "stdout",
     "output_type": "stream",
     "text": [
      "Best Hyperparameters: {'C': 5.804439744053994, 'coef0': -0.47916573997417633, 'gamma': 100.0, 'kernel': 'linear'}\n",
      "Test Accuracy: 0.786618444846293\n"
     ]
    }
   ],
   "source": [
    "svm = SVC()\n",
    "\n",
    "random_search = RandomizedSearchCV(svm, param_distributions=param_dist_svc, n_iter=25, cv=5, scoring='accuracy', random_state=42, n_jobs=-1)\n",
    "\n",
    "# Fit the model\n",
    "random_search.fit(x_train, y_train)\n",
    "\n",
    "# Print the best hyperparameters\n",
    "print(\"Best Hyperparameters:\", random_search.best_params_)\n",
    "\n",
    "# Evaluate the best model on the test set\n",
    "best_model = random_search.best_estimator_\n",
    "test_accuracy = best_model.score(x_test, y_test)\n",
    "print(\"Test Accuracy:\", test_accuracy)"
   ]
  },
  {
   "cell_type": "code",
   "execution_count": 29,
   "id": "2d499c91-92ef-4f4b-bbcf-a624f74e572b",
   "metadata": {},
   "outputs": [
    {
     "data": {
      "text/html": [
       "<style>#sk-container-id-2 {color: black;}#sk-container-id-2 pre{padding: 0;}#sk-container-id-2 div.sk-toggleable {background-color: white;}#sk-container-id-2 label.sk-toggleable__label {cursor: pointer;display: block;width: 100%;margin-bottom: 0;padding: 0.3em;box-sizing: border-box;text-align: center;}#sk-container-id-2 label.sk-toggleable__label-arrow:before {content: \"▸\";float: left;margin-right: 0.25em;color: #696969;}#sk-container-id-2 label.sk-toggleable__label-arrow:hover:before {color: black;}#sk-container-id-2 div.sk-estimator:hover label.sk-toggleable__label-arrow:before {color: black;}#sk-container-id-2 div.sk-toggleable__content {max-height: 0;max-width: 0;overflow: hidden;text-align: left;background-color: #f0f8ff;}#sk-container-id-2 div.sk-toggleable__content pre {margin: 0.2em;color: black;border-radius: 0.25em;background-color: #f0f8ff;}#sk-container-id-2 input.sk-toggleable__control:checked~div.sk-toggleable__content {max-height: 200px;max-width: 100%;overflow: auto;}#sk-container-id-2 input.sk-toggleable__control:checked~label.sk-toggleable__label-arrow:before {content: \"▾\";}#sk-container-id-2 div.sk-estimator input.sk-toggleable__control:checked~label.sk-toggleable__label {background-color: #d4ebff;}#sk-container-id-2 div.sk-label input.sk-toggleable__control:checked~label.sk-toggleable__label {background-color: #d4ebff;}#sk-container-id-2 input.sk-hidden--visually {border: 0;clip: rect(1px 1px 1px 1px);clip: rect(1px, 1px, 1px, 1px);height: 1px;margin: -1px;overflow: hidden;padding: 0;position: absolute;width: 1px;}#sk-container-id-2 div.sk-estimator {font-family: monospace;background-color: #f0f8ff;border: 1px dotted black;border-radius: 0.25em;box-sizing: border-box;margin-bottom: 0.5em;}#sk-container-id-2 div.sk-estimator:hover {background-color: #d4ebff;}#sk-container-id-2 div.sk-parallel-item::after {content: \"\";width: 100%;border-bottom: 1px solid gray;flex-grow: 1;}#sk-container-id-2 div.sk-label:hover label.sk-toggleable__label {background-color: #d4ebff;}#sk-container-id-2 div.sk-serial::before {content: \"\";position: absolute;border-left: 1px solid gray;box-sizing: border-box;top: 0;bottom: 0;left: 50%;z-index: 0;}#sk-container-id-2 div.sk-serial {display: flex;flex-direction: column;align-items: center;background-color: white;padding-right: 0.2em;padding-left: 0.2em;position: relative;}#sk-container-id-2 div.sk-item {position: relative;z-index: 1;}#sk-container-id-2 div.sk-parallel {display: flex;align-items: stretch;justify-content: center;background-color: white;position: relative;}#sk-container-id-2 div.sk-item::before, #sk-container-id-2 div.sk-parallel-item::before {content: \"\";position: absolute;border-left: 1px solid gray;box-sizing: border-box;top: 0;bottom: 0;left: 50%;z-index: -1;}#sk-container-id-2 div.sk-parallel-item {display: flex;flex-direction: column;z-index: 1;position: relative;background-color: white;}#sk-container-id-2 div.sk-parallel-item:first-child::after {align-self: flex-end;width: 50%;}#sk-container-id-2 div.sk-parallel-item:last-child::after {align-self: flex-start;width: 50%;}#sk-container-id-2 div.sk-parallel-item:only-child::after {width: 0;}#sk-container-id-2 div.sk-dashed-wrapped {border: 1px dashed gray;margin: 0 0.4em 0.5em 0.4em;box-sizing: border-box;padding-bottom: 0.4em;background-color: white;}#sk-container-id-2 div.sk-label label {font-family: monospace;font-weight: bold;display: inline-block;line-height: 1.2em;}#sk-container-id-2 div.sk-label-container {text-align: center;}#sk-container-id-2 div.sk-container {/* jupyter's `normalize.less` sets `[hidden] { display: none; }` but bootstrap.min.css set `[hidden] { display: none !important; }` so we also need the `!important` here to be able to override the default hidden behavior on the sphinx rendered scikit-learn.org. See: https://github.com/scikit-learn/scikit-learn/issues/21755 */display: inline-block !important;position: relative;}#sk-container-id-2 div.sk-text-repr-fallback {display: none;}</style><div id=\"sk-container-id-2\" class=\"sk-top-container\"><div class=\"sk-text-repr-fallback\"><pre>SVC(C=5, gamma=100, kernel=&#x27;linear&#x27;)</pre><b>In a Jupyter environment, please rerun this cell to show the HTML representation or trust the notebook. <br />On GitHub, the HTML representation is unable to render, please try loading this page with nbviewer.org.</b></div><div class=\"sk-container\" hidden><div class=\"sk-item\"><div class=\"sk-estimator sk-toggleable\"><input class=\"sk-toggleable__control sk-hidden--visually\" id=\"sk-estimator-id-2\" type=\"checkbox\" checked><label for=\"sk-estimator-id-2\" class=\"sk-toggleable__label sk-toggleable__label-arrow\">SVC</label><div class=\"sk-toggleable__content\"><pre>SVC(C=5, gamma=100, kernel=&#x27;linear&#x27;)</pre></div></div></div></div></div>"
      ],
      "text/plain": [
       "SVC(C=5, gamma=100, kernel='linear')"
      ]
     },
     "execution_count": 29,
     "metadata": {},
     "output_type": "execute_result"
    }
   ],
   "source": [
    "model = SVC(kernel='linear', gamma=100, C=5)\n",
    "model.fit(x_train, y_train)"
   ]
  },
  {
   "cell_type": "code",
   "execution_count": 30,
   "id": "b93c2733-8699-45cf-b6aa-b949ba354e95",
   "metadata": {},
   "outputs": [
    {
     "data": {
      "text/plain": [
       "0.7875226039783002"
      ]
     },
     "execution_count": 30,
     "metadata": {},
     "output_type": "execute_result"
    }
   ],
   "source": [
    "model.score(x_test, y_test)"
   ]
  },
  {
   "cell_type": "markdown",
   "id": "024b91a9-ece5-4ec8-8bee-606708b7349c",
   "metadata": {},
   "source": [
    "# Iteration\n",
    "One thing we notice is that this dataset has three target classes. \n",
    "The extra target class is 'enrolled', which is somewhat irrelevant to predicting student outcomes. Also, there is not a clear intuitive correlation between enrollment status and the data features, since a student who is enrolled can be very successful or on the verge of dropping.\n",
    "\n",
    "For that reason, we test the models *without* the enrollment class"
   ]
  },
  {
   "cell_type": "markdown",
   "id": "27b6a141-29e7-4fa9-9b61-f6f0746726ae",
   "metadata": {},
   "source": [
    "### Removing extra class\n"
   ]
  },
  {
   "cell_type": "code",
   "execution_count": 31,
   "id": "ce6e0f35-117d-4c98-9475-d58185e0f5f0",
   "metadata": {},
   "outputs": [],
   "source": [
    "student_data_binary = student_data[student_data['Target']!='Enrolled']\n",
    "# student_data_binary.iloc[:20,-1]"
   ]
  },
  {
   "cell_type": "markdown",
   "id": "382d8b0d-6853-4e08-9246-5dbdc62d3b6f",
   "metadata": {},
   "source": [
    "Here we are just preparing the data in the same way we did above. The only difference now is that we are ignoring the 'enrolled' students, since they interfere with out models."
   ]
  },
  {
   "cell_type": "code",
   "execution_count": 46,
   "id": "51bc5e9f-f1fe-407d-95c6-5bd1ca181722",
   "metadata": {},
   "outputs": [],
   "source": [
    "X_binary, Y_binary = student_data_binary.iloc[:,:-1], student_data_binary.iloc[:,-1:]\n",
    "X_binary = X_binary.to_numpy()\n",
    "Y_binary = Y_binary.to_numpy()\n",
    "Y_binary = Y_binary.ravel()\n",
    "Y_binary = le.fit_transform(Y_binary)\n",
    "\n",
    "scaler = StandardScaler()\n",
    "X_binary = scaler.fit_transform(X_binary)"
   ]
  },
  {
   "cell_type": "code",
   "execution_count": 47,
   "id": "fbbf9dcb-abd3-40f7-aeb6-98e690645f5c",
   "metadata": {},
   "outputs": [],
   "source": [
    "x_train_binary, x_test_binary, y_train_binary, y_test_binary = train_test_split(X_binary, Y_binary)\n",
    "svc_linear_binary = SVC(kernel='linear', max_iter=1000000)\n",
    "svc_radial_binary = SVC(kernel='rbf')"
   ]
  },
  {
   "cell_type": "code",
   "execution_count": 34,
   "id": "e315dcb4-37b2-4c71-944d-a98f8802f998",
   "metadata": {},
   "outputs": [
    {
     "name": "stdout",
     "output_type": "stream",
     "text": [
      "Linear scores on binary data: 0.9030837004405287\n",
      "Radial scores on binary data: 0.9008810572687225\n"
     ]
    }
   ],
   "source": [
    "svc_linear_binary.fit(x_train_binary, y_train_binary)\n",
    "svc_radial_binary.fit(x_train_binary, y_train_binary)\n",
    "print(f\"Linear scores on binary data: {svc_linear_binary.score(x_test_binary, y_test_binary)}\")\n",
    "print(f\"Radial scores on binary data: {svc_radial_binary.score(x_test_binary, y_test_binary)}\")"
   ]
  },
  {
   "cell_type": "markdown",
   "id": "50570213-b666-46d4-abac-5d4f183949f8",
   "metadata": {},
   "source": [
    "As we can see, these scores are significantly higher than when we had 3 classes.\n",
    "This confirms our earlier prediction that there is not a strong correlation between the data features and whether a student is enrolled."
   ]
  },
  {
   "cell_type": "markdown",
   "id": "dd1ac6de-669a-4e60-bcd1-330cb69f52c8",
   "metadata": {},
   "source": [
    "### Combining"
   ]
  },
  {
   "cell_type": "markdown",
   "id": "09095e2c-0fb1-465c-a10e-30cd459a0bbc",
   "metadata": {},
   "source": [
    "One idea is to use ensemble voting to improve the accuracy. Since the models are much better when they do not have to classify enrolled students, it could make sense to have the binary classifiers take the lead in deciding whether a student graduated or dropped, and then have the three-way classifiers jump in when they predict a student is enrolled.\n",
    "\n",
    "It is not clear how to accomplish this with a normal VotingClassifier from scikit-learn, so here define one of our own. "
   ]
  },
  {
   "cell_type": "code",
   "execution_count": 37,
   "id": "25071eae-d6d5-434e-b4c5-79bd9e657ff9",
   "metadata": {},
   "outputs": [
    {
     "data": {
      "text/html": [
       "<style>#sk-container-id-3 {color: black;}#sk-container-id-3 pre{padding: 0;}#sk-container-id-3 div.sk-toggleable {background-color: white;}#sk-container-id-3 label.sk-toggleable__label {cursor: pointer;display: block;width: 100%;margin-bottom: 0;padding: 0.3em;box-sizing: border-box;text-align: center;}#sk-container-id-3 label.sk-toggleable__label-arrow:before {content: \"▸\";float: left;margin-right: 0.25em;color: #696969;}#sk-container-id-3 label.sk-toggleable__label-arrow:hover:before {color: black;}#sk-container-id-3 div.sk-estimator:hover label.sk-toggleable__label-arrow:before {color: black;}#sk-container-id-3 div.sk-toggleable__content {max-height: 0;max-width: 0;overflow: hidden;text-align: left;background-color: #f0f8ff;}#sk-container-id-3 div.sk-toggleable__content pre {margin: 0.2em;color: black;border-radius: 0.25em;background-color: #f0f8ff;}#sk-container-id-3 input.sk-toggleable__control:checked~div.sk-toggleable__content {max-height: 200px;max-width: 100%;overflow: auto;}#sk-container-id-3 input.sk-toggleable__control:checked~label.sk-toggleable__label-arrow:before {content: \"▾\";}#sk-container-id-3 div.sk-estimator input.sk-toggleable__control:checked~label.sk-toggleable__label {background-color: #d4ebff;}#sk-container-id-3 div.sk-label input.sk-toggleable__control:checked~label.sk-toggleable__label {background-color: #d4ebff;}#sk-container-id-3 input.sk-hidden--visually {border: 0;clip: rect(1px 1px 1px 1px);clip: rect(1px, 1px, 1px, 1px);height: 1px;margin: -1px;overflow: hidden;padding: 0;position: absolute;width: 1px;}#sk-container-id-3 div.sk-estimator {font-family: monospace;background-color: #f0f8ff;border: 1px dotted black;border-radius: 0.25em;box-sizing: border-box;margin-bottom: 0.5em;}#sk-container-id-3 div.sk-estimator:hover {background-color: #d4ebff;}#sk-container-id-3 div.sk-parallel-item::after {content: \"\";width: 100%;border-bottom: 1px solid gray;flex-grow: 1;}#sk-container-id-3 div.sk-label:hover label.sk-toggleable__label {background-color: #d4ebff;}#sk-container-id-3 div.sk-serial::before {content: \"\";position: absolute;border-left: 1px solid gray;box-sizing: border-box;top: 0;bottom: 0;left: 50%;z-index: 0;}#sk-container-id-3 div.sk-serial {display: flex;flex-direction: column;align-items: center;background-color: white;padding-right: 0.2em;padding-left: 0.2em;position: relative;}#sk-container-id-3 div.sk-item {position: relative;z-index: 1;}#sk-container-id-3 div.sk-parallel {display: flex;align-items: stretch;justify-content: center;background-color: white;position: relative;}#sk-container-id-3 div.sk-item::before, #sk-container-id-3 div.sk-parallel-item::before {content: \"\";position: absolute;border-left: 1px solid gray;box-sizing: border-box;top: 0;bottom: 0;left: 50%;z-index: -1;}#sk-container-id-3 div.sk-parallel-item {display: flex;flex-direction: column;z-index: 1;position: relative;background-color: white;}#sk-container-id-3 div.sk-parallel-item:first-child::after {align-self: flex-end;width: 50%;}#sk-container-id-3 div.sk-parallel-item:last-child::after {align-self: flex-start;width: 50%;}#sk-container-id-3 div.sk-parallel-item:only-child::after {width: 0;}#sk-container-id-3 div.sk-dashed-wrapped {border: 1px dashed gray;margin: 0 0.4em 0.5em 0.4em;box-sizing: border-box;padding-bottom: 0.4em;background-color: white;}#sk-container-id-3 div.sk-label label {font-family: monospace;font-weight: bold;display: inline-block;line-height: 1.2em;}#sk-container-id-3 div.sk-label-container {text-align: center;}#sk-container-id-3 div.sk-container {/* jupyter's `normalize.less` sets `[hidden] { display: none; }` but bootstrap.min.css set `[hidden] { display: none !important; }` so we also need the `!important` here to be able to override the default hidden behavior on the sphinx rendered scikit-learn.org. See: https://github.com/scikit-learn/scikit-learn/issues/21755 */display: inline-block !important;position: relative;}#sk-container-id-3 div.sk-text-repr-fallback {display: none;}</style><div id=\"sk-container-id-3\" class=\"sk-top-container\"><div class=\"sk-text-repr-fallback\"><pre>SVC(kernel=&#x27;linear&#x27;, max_iter=1000000, probability=True)</pre><b>In a Jupyter environment, please rerun this cell to show the HTML representation or trust the notebook. <br />On GitHub, the HTML representation is unable to render, please try loading this page with nbviewer.org.</b></div><div class=\"sk-container\" hidden><div class=\"sk-item\"><div class=\"sk-estimator sk-toggleable\"><input class=\"sk-toggleable__control sk-hidden--visually\" id=\"sk-estimator-id-3\" type=\"checkbox\" checked><label for=\"sk-estimator-id-3\" class=\"sk-toggleable__label sk-toggleable__label-arrow\">SVC</label><div class=\"sk-toggleable__content\"><pre>SVC(kernel=&#x27;linear&#x27;, max_iter=1000000, probability=True)</pre></div></div></div></div></div>"
      ],
      "text/plain": [
       "SVC(kernel='linear', max_iter=1000000, probability=True)"
      ]
     },
     "execution_count": 37,
     "metadata": {},
     "output_type": "execute_result"
    }
   ],
   "source": [
    "svc_linear = SVC(kernel='linear', probability=True, max_iter=1000000)\n",
    "svc_radial = SVC(kernel='rbf', probability=True, C=4)\n",
    "svc_linear_binary = SVC(kernel='linear', max_iter=1000000, probability=True)\n",
    "svc_radial_binary = SVC(kernel='rbf')\n",
    "svc_linear.fit(x_train, y_train)\n",
    "svc_linear_binary.fit(x_train_binary, y_train_binary)"
   ]
  },
  {
   "cell_type": "code",
   "execution_count": 39,
   "id": "af0d5512-8419-43b6-9403-fff29a5b55d8",
   "metadata": {},
   "outputs": [],
   "source": [
    "def classifier(linear_binary_classifier, linear_nonbinary_classifier, radial_nonbinary_classifier, input_data):\n",
    "    linear_binary_pred = linear_binary_classifier.predict(input_data)\n",
    "    linear_nonbinary_pred = linear_nonbinary_classifier.predict(input_data)\n",
    "\n",
    "    linear_nonbinary_prob = linear_nonbinary_classifier.predict_proba(input_data)\n",
    "    radial_nonbinary_prob = radial_nonbinary_classifier.predict_proba(input_data)\n",
    "    ans = np.copy(linear_binary_pred)\n",
    "    for i in range(len(ans)):\n",
    "        if ans[i]==1:\n",
    "            ans[i]=2\n",
    "        if (linear_nonbinary_prob[i,1]>0.4 and radial_nonbinary_prob[i,1]>0.4):\n",
    "            ans[i]=1\n",
    "    return ans"
   ]
  },
  {
   "cell_type": "code",
   "execution_count": 40,
   "id": "d145e19c-0327-4af2-be4b-14fe24162f8c",
   "metadata": {},
   "outputs": [
    {
     "name": "stdout",
     "output_type": "stream",
     "text": [
      "[2 2 2 ... 0 2 2]\n",
      "[[288  51  13]\n",
      " [ 27  62   3]\n",
      " [ 54  83 525]]\n"
     ]
    }
   ],
   "source": [
    "svc_linear.fit(x_train, y_train)\n",
    "svc_linear_binary.fit(x_train_binary, y_train_binary)\n",
    "svc_radial.fit(x_train, y_train)\n",
    "predictions = classifier(svc_linear_binary, svc_linear, svc_radial, x_test)\n",
    "\n",
    "print(predictions)\n",
    "print(confusion_matrix(predictions, y_test))"
   ]
  },
  {
   "cell_type": "code",
   "execution_count": 41,
   "id": "6bb59e67-b575-414b-bc9b-797572c2b785",
   "metadata": {},
   "outputs": [
    {
     "name": "stdout",
     "output_type": "stream",
     "text": [
      "Accuracy: 0.7911392405063291\n"
     ]
    }
   ],
   "source": [
    "from sklearn.metrics import accuracy_score\n",
    "accuracy = accuracy_score(y_test, predictions)\n",
    "print(f\"Accuracy: {accuracy}\")"
   ]
  },
  {
   "cell_type": "markdown",
   "id": "9d9961d0-ed31-4ff8-b3ba-b46de0ee3ef0",
   "metadata": {},
   "source": [
    "### Analysis:\n",
    "As we can see, using extra, more sophisticated classifiers to single out the 'enrolled' students is not that successful.\n",
    "The best thing to try would be a one-vs-rest approach (ovr) to first classify whether or not a student is enrolled, and then (if they are not enrolled) clsasify them as graduate vs dropped.\n",
    "For the time being however, we will use the data that has been binarized and use it for further analysis.\n"
   ]
  },
  {
   "cell_type": "markdown",
   "id": "52d40f7a-3304-4b3e-8719-f1c25469810d",
   "metadata": {},
   "source": [
    "# Optimizing Hyperparameters\n",
    "Now that we have a better sense of how we want to classify the data, we are going to again optimize our hyperparameteres, only this time we will be looking for different results. Also, we will use be using Grid Search.\n",
    "(the next several cells were done by chatGPT)"
   ]
  },
  {
   "cell_type": "code",
   "execution_count": 56,
   "id": "a5a11758-ed0a-441c-8808-268bc4128fbb",
   "metadata": {},
   "outputs": [],
   "source": [
    "X_binary, Y_binary = student_data_binary.iloc[:,:-1], student_data_binary.iloc[:,-1:]\n",
    "X_binary = X_binary.to_numpy()\n",
    "Y_binary = Y_binary.to_numpy()\n",
    "Y_binary = Y_binary.ravel()\n",
    "Y_binary = le.fit_transform(Y_binary)\n",
    "\n",
    "scaler = StandardScaler()\n",
    "X_binary = scaler.fit_transform(X_binary)"
   ]
  },
  {
   "cell_type": "code",
   "execution_count": 57,
   "id": "98f9158a-d440-46d8-81e4-40c02bda17a9",
   "metadata": {},
   "outputs": [],
   "source": [
    "x_train_binary, x_test_binary, y_train_binary, y_test_binary = train_test_split(X_binary, Y_binary)\n",
    "svc_linear_binary = SVC(kernel='linear', max_iter=-1)\n",
    "svc_radial_binary = SVC(kernel='rbf')"
   ]
  },
  {
   "cell_type": "markdown",
   "id": "7edfb37f-79bf-4f7e-b29b-fe1d8830a423",
   "metadata": {},
   "source": [
    "Optimizing the linear models parameters:"
   ]
  },
  {
   "cell_type": "code",
   "execution_count": 67,
   "id": "2f0019fa-7a56-4eda-baa6-0c533eb3231a",
   "metadata": {},
   "outputs": [
    {
     "data": {
      "text/html": [
       "<style>#sk-container-id-7 {color: black;}#sk-container-id-7 pre{padding: 0;}#sk-container-id-7 div.sk-toggleable {background-color: white;}#sk-container-id-7 label.sk-toggleable__label {cursor: pointer;display: block;width: 100%;margin-bottom: 0;padding: 0.3em;box-sizing: border-box;text-align: center;}#sk-container-id-7 label.sk-toggleable__label-arrow:before {content: \"▸\";float: left;margin-right: 0.25em;color: #696969;}#sk-container-id-7 label.sk-toggleable__label-arrow:hover:before {color: black;}#sk-container-id-7 div.sk-estimator:hover label.sk-toggleable__label-arrow:before {color: black;}#sk-container-id-7 div.sk-toggleable__content {max-height: 0;max-width: 0;overflow: hidden;text-align: left;background-color: #f0f8ff;}#sk-container-id-7 div.sk-toggleable__content pre {margin: 0.2em;color: black;border-radius: 0.25em;background-color: #f0f8ff;}#sk-container-id-7 input.sk-toggleable__control:checked~div.sk-toggleable__content {max-height: 200px;max-width: 100%;overflow: auto;}#sk-container-id-7 input.sk-toggleable__control:checked~label.sk-toggleable__label-arrow:before {content: \"▾\";}#sk-container-id-7 div.sk-estimator input.sk-toggleable__control:checked~label.sk-toggleable__label {background-color: #d4ebff;}#sk-container-id-7 div.sk-label input.sk-toggleable__control:checked~label.sk-toggleable__label {background-color: #d4ebff;}#sk-container-id-7 input.sk-hidden--visually {border: 0;clip: rect(1px 1px 1px 1px);clip: rect(1px, 1px, 1px, 1px);height: 1px;margin: -1px;overflow: hidden;padding: 0;position: absolute;width: 1px;}#sk-container-id-7 div.sk-estimator {font-family: monospace;background-color: #f0f8ff;border: 1px dotted black;border-radius: 0.25em;box-sizing: border-box;margin-bottom: 0.5em;}#sk-container-id-7 div.sk-estimator:hover {background-color: #d4ebff;}#sk-container-id-7 div.sk-parallel-item::after {content: \"\";width: 100%;border-bottom: 1px solid gray;flex-grow: 1;}#sk-container-id-7 div.sk-label:hover label.sk-toggleable__label {background-color: #d4ebff;}#sk-container-id-7 div.sk-serial::before {content: \"\";position: absolute;border-left: 1px solid gray;box-sizing: border-box;top: 0;bottom: 0;left: 50%;z-index: 0;}#sk-container-id-7 div.sk-serial {display: flex;flex-direction: column;align-items: center;background-color: white;padding-right: 0.2em;padding-left: 0.2em;position: relative;}#sk-container-id-7 div.sk-item {position: relative;z-index: 1;}#sk-container-id-7 div.sk-parallel {display: flex;align-items: stretch;justify-content: center;background-color: white;position: relative;}#sk-container-id-7 div.sk-item::before, #sk-container-id-7 div.sk-parallel-item::before {content: \"\";position: absolute;border-left: 1px solid gray;box-sizing: border-box;top: 0;bottom: 0;left: 50%;z-index: -1;}#sk-container-id-7 div.sk-parallel-item {display: flex;flex-direction: column;z-index: 1;position: relative;background-color: white;}#sk-container-id-7 div.sk-parallel-item:first-child::after {align-self: flex-end;width: 50%;}#sk-container-id-7 div.sk-parallel-item:last-child::after {align-self: flex-start;width: 50%;}#sk-container-id-7 div.sk-parallel-item:only-child::after {width: 0;}#sk-container-id-7 div.sk-dashed-wrapped {border: 1px dashed gray;margin: 0 0.4em 0.5em 0.4em;box-sizing: border-box;padding-bottom: 0.4em;background-color: white;}#sk-container-id-7 div.sk-label label {font-family: monospace;font-weight: bold;display: inline-block;line-height: 1.2em;}#sk-container-id-7 div.sk-label-container {text-align: center;}#sk-container-id-7 div.sk-container {/* jupyter's `normalize.less` sets `[hidden] { display: none; }` but bootstrap.min.css set `[hidden] { display: none !important; }` so we also need the `!important` here to be able to override the default hidden behavior on the sphinx rendered scikit-learn.org. See: https://github.com/scikit-learn/scikit-learn/issues/21755 */display: inline-block !important;position: relative;}#sk-container-id-7 div.sk-text-repr-fallback {display: none;}</style><div id=\"sk-container-id-7\" class=\"sk-top-container\"><div class=\"sk-text-repr-fallback\"><pre>GridSearchCV(cv=3, estimator=SVC(kernel=&#x27;linear&#x27;), n_jobs=-1,\n",
       "             param_grid={&#x27;C&#x27;: [3, 4, 5, 6, 8, 10, 12, 15]}, scoring=&#x27;accuracy&#x27;)</pre><b>In a Jupyter environment, please rerun this cell to show the HTML representation or trust the notebook. <br />On GitHub, the HTML representation is unable to render, please try loading this page with nbviewer.org.</b></div><div class=\"sk-container\" hidden><div class=\"sk-item sk-dashed-wrapped\"><div class=\"sk-label-container\"><div class=\"sk-label sk-toggleable\"><input class=\"sk-toggleable__control sk-hidden--visually\" id=\"sk-estimator-id-13\" type=\"checkbox\" ><label for=\"sk-estimator-id-13\" class=\"sk-toggleable__label sk-toggleable__label-arrow\">GridSearchCV</label><div class=\"sk-toggleable__content\"><pre>GridSearchCV(cv=3, estimator=SVC(kernel=&#x27;linear&#x27;), n_jobs=-1,\n",
       "             param_grid={&#x27;C&#x27;: [3, 4, 5, 6, 8, 10, 12, 15]}, scoring=&#x27;accuracy&#x27;)</pre></div></div></div><div class=\"sk-parallel\"><div class=\"sk-parallel-item\"><div class=\"sk-item\"><div class=\"sk-label-container\"><div class=\"sk-label sk-toggleable\"><input class=\"sk-toggleable__control sk-hidden--visually\" id=\"sk-estimator-id-14\" type=\"checkbox\" ><label for=\"sk-estimator-id-14\" class=\"sk-toggleable__label sk-toggleable__label-arrow\">estimator: SVC</label><div class=\"sk-toggleable__content\"><pre>SVC(kernel=&#x27;linear&#x27;)</pre></div></div></div><div class=\"sk-serial\"><div class=\"sk-item\"><div class=\"sk-estimator sk-toggleable\"><input class=\"sk-toggleable__control sk-hidden--visually\" id=\"sk-estimator-id-15\" type=\"checkbox\" ><label for=\"sk-estimator-id-15\" class=\"sk-toggleable__label sk-toggleable__label-arrow\">SVC</label><div class=\"sk-toggleable__content\"><pre>SVC(kernel=&#x27;linear&#x27;)</pre></div></div></div></div></div></div></div></div></div></div>"
      ],
      "text/plain": [
       "GridSearchCV(cv=3, estimator=SVC(kernel='linear'), n_jobs=-1,\n",
       "             param_grid={'C': [3, 4, 5, 6, 8, 10, 12, 15]}, scoring='accuracy')"
      ]
     },
     "execution_count": 67,
     "metadata": {},
     "output_type": "execute_result"
    }
   ],
   "source": [
    "from sklearn.model_selection import GridSearchCV\n",
    "\n",
    "linear_param_grid = {'C': [3, 4, 5, 6, 8, 10, 12, 15]} #the range of values to offer C was decided through a lot of iteration\n",
    "linear_grid_search = GridSearchCV(estimator=svc_linear_binary, param_grid=linear_param_grid, cv=3, scoring='accuracy', n_jobs=-1)\n",
    "linear_grid_search.fit(x_train_binary, y_train_binary)"
   ]
  },
  {
   "cell_type": "code",
   "execution_count": 68,
   "id": "48e23153-8b43-4758-9f76-22dc2dc5d3a2",
   "metadata": {},
   "outputs": [
    {
     "name": "stdout",
     "output_type": "stream",
     "text": [
      "Accuracy: 0.920704845814978\n",
      "Best Hyperparameters: {'C': 6}\n"
     ]
    }
   ],
   "source": [
    "# Get the best parameters from the grid search\n",
    "best_params = linear_grid_search.best_params_\n",
    "\n",
    "# Use the best parameters to train the final model\n",
    "final_linear_model = SVC(kernel='linear', C=best_params['C'])\n",
    "final_linear_model.fit(x_train_binary, y_train_binary)\n",
    "\n",
    "# Make predictions on the test set\n",
    "y_pred = final_linear_model.predict(x_test_binary)\n",
    "\n",
    "# Evaluate the accuracy\n",
    "accuracy = accuracy_score(y_test_binary, y_pred)\n",
    "print(f\"Accuracy: {accuracy}\")\n",
    "print(\"Best Hyperparameters:\", best_params)"
   ]
  },
  {
   "cell_type": "markdown",
   "id": "182df294-1206-4cdb-a402-349e24811444",
   "metadata": {},
   "source": [
    "Optimizing the radial parameters:"
   ]
  },
  {
   "cell_type": "code",
   "execution_count": 81,
   "id": "e26ec274-57f5-4acc-aa6c-e9220bc16cac",
   "metadata": {},
   "outputs": [
    {
     "data": {
      "text/html": [
       "<style>#sk-container-id-13 {color: black;}#sk-container-id-13 pre{padding: 0;}#sk-container-id-13 div.sk-toggleable {background-color: white;}#sk-container-id-13 label.sk-toggleable__label {cursor: pointer;display: block;width: 100%;margin-bottom: 0;padding: 0.3em;box-sizing: border-box;text-align: center;}#sk-container-id-13 label.sk-toggleable__label-arrow:before {content: \"▸\";float: left;margin-right: 0.25em;color: #696969;}#sk-container-id-13 label.sk-toggleable__label-arrow:hover:before {color: black;}#sk-container-id-13 div.sk-estimator:hover label.sk-toggleable__label-arrow:before {color: black;}#sk-container-id-13 div.sk-toggleable__content {max-height: 0;max-width: 0;overflow: hidden;text-align: left;background-color: #f0f8ff;}#sk-container-id-13 div.sk-toggleable__content pre {margin: 0.2em;color: black;border-radius: 0.25em;background-color: #f0f8ff;}#sk-container-id-13 input.sk-toggleable__control:checked~div.sk-toggleable__content {max-height: 200px;max-width: 100%;overflow: auto;}#sk-container-id-13 input.sk-toggleable__control:checked~label.sk-toggleable__label-arrow:before {content: \"▾\";}#sk-container-id-13 div.sk-estimator input.sk-toggleable__control:checked~label.sk-toggleable__label {background-color: #d4ebff;}#sk-container-id-13 div.sk-label input.sk-toggleable__control:checked~label.sk-toggleable__label {background-color: #d4ebff;}#sk-container-id-13 input.sk-hidden--visually {border: 0;clip: rect(1px 1px 1px 1px);clip: rect(1px, 1px, 1px, 1px);height: 1px;margin: -1px;overflow: hidden;padding: 0;position: absolute;width: 1px;}#sk-container-id-13 div.sk-estimator {font-family: monospace;background-color: #f0f8ff;border: 1px dotted black;border-radius: 0.25em;box-sizing: border-box;margin-bottom: 0.5em;}#sk-container-id-13 div.sk-estimator:hover {background-color: #d4ebff;}#sk-container-id-13 div.sk-parallel-item::after {content: \"\";width: 100%;border-bottom: 1px solid gray;flex-grow: 1;}#sk-container-id-13 div.sk-label:hover label.sk-toggleable__label {background-color: #d4ebff;}#sk-container-id-13 div.sk-serial::before {content: \"\";position: absolute;border-left: 1px solid gray;box-sizing: border-box;top: 0;bottom: 0;left: 50%;z-index: 0;}#sk-container-id-13 div.sk-serial {display: flex;flex-direction: column;align-items: center;background-color: white;padding-right: 0.2em;padding-left: 0.2em;position: relative;}#sk-container-id-13 div.sk-item {position: relative;z-index: 1;}#sk-container-id-13 div.sk-parallel {display: flex;align-items: stretch;justify-content: center;background-color: white;position: relative;}#sk-container-id-13 div.sk-item::before, #sk-container-id-13 div.sk-parallel-item::before {content: \"\";position: absolute;border-left: 1px solid gray;box-sizing: border-box;top: 0;bottom: 0;left: 50%;z-index: -1;}#sk-container-id-13 div.sk-parallel-item {display: flex;flex-direction: column;z-index: 1;position: relative;background-color: white;}#sk-container-id-13 div.sk-parallel-item:first-child::after {align-self: flex-end;width: 50%;}#sk-container-id-13 div.sk-parallel-item:last-child::after {align-self: flex-start;width: 50%;}#sk-container-id-13 div.sk-parallel-item:only-child::after {width: 0;}#sk-container-id-13 div.sk-dashed-wrapped {border: 1px dashed gray;margin: 0 0.4em 0.5em 0.4em;box-sizing: border-box;padding-bottom: 0.4em;background-color: white;}#sk-container-id-13 div.sk-label label {font-family: monospace;font-weight: bold;display: inline-block;line-height: 1.2em;}#sk-container-id-13 div.sk-label-container {text-align: center;}#sk-container-id-13 div.sk-container {/* jupyter's `normalize.less` sets `[hidden] { display: none; }` but bootstrap.min.css set `[hidden] { display: none !important; }` so we also need the `!important` here to be able to override the default hidden behavior on the sphinx rendered scikit-learn.org. See: https://github.com/scikit-learn/scikit-learn/issues/21755 */display: inline-block !important;position: relative;}#sk-container-id-13 div.sk-text-repr-fallback {display: none;}</style><div id=\"sk-container-id-13\" class=\"sk-top-container\"><div class=\"sk-text-repr-fallback\"><pre>GridSearchCV(cv=4, estimator=SVC(), n_jobs=-1,\n",
       "             param_grid={&#x27;C&#x27;: [20, 23, 24, 25, 27],\n",
       "                         &#x27;gamma&#x27;: [0.001, 0.0001, 0.0008, 0.0005, 0.05, 0.005,\n",
       "                                   0.01]},\n",
       "             scoring=&#x27;accuracy&#x27;)</pre><b>In a Jupyter environment, please rerun this cell to show the HTML representation or trust the notebook. <br />On GitHub, the HTML representation is unable to render, please try loading this page with nbviewer.org.</b></div><div class=\"sk-container\" hidden><div class=\"sk-item sk-dashed-wrapped\"><div class=\"sk-label-container\"><div class=\"sk-label sk-toggleable\"><input class=\"sk-toggleable__control sk-hidden--visually\" id=\"sk-estimator-id-31\" type=\"checkbox\" ><label for=\"sk-estimator-id-31\" class=\"sk-toggleable__label sk-toggleable__label-arrow\">GridSearchCV</label><div class=\"sk-toggleable__content\"><pre>GridSearchCV(cv=4, estimator=SVC(), n_jobs=-1,\n",
       "             param_grid={&#x27;C&#x27;: [20, 23, 24, 25, 27],\n",
       "                         &#x27;gamma&#x27;: [0.001, 0.0001, 0.0008, 0.0005, 0.05, 0.005,\n",
       "                                   0.01]},\n",
       "             scoring=&#x27;accuracy&#x27;)</pre></div></div></div><div class=\"sk-parallel\"><div class=\"sk-parallel-item\"><div class=\"sk-item\"><div class=\"sk-label-container\"><div class=\"sk-label sk-toggleable\"><input class=\"sk-toggleable__control sk-hidden--visually\" id=\"sk-estimator-id-32\" type=\"checkbox\" ><label for=\"sk-estimator-id-32\" class=\"sk-toggleable__label sk-toggleable__label-arrow\">estimator: SVC</label><div class=\"sk-toggleable__content\"><pre>SVC()</pre></div></div></div><div class=\"sk-serial\"><div class=\"sk-item\"><div class=\"sk-estimator sk-toggleable\"><input class=\"sk-toggleable__control sk-hidden--visually\" id=\"sk-estimator-id-33\" type=\"checkbox\" ><label for=\"sk-estimator-id-33\" class=\"sk-toggleable__label sk-toggleable__label-arrow\">SVC</label><div class=\"sk-toggleable__content\"><pre>SVC()</pre></div></div></div></div></div></div></div></div></div></div>"
      ],
      "text/plain": [
       "GridSearchCV(cv=4, estimator=SVC(), n_jobs=-1,\n",
       "             param_grid={'C': [20, 23, 24, 25, 27],\n",
       "                         'gamma': [0.001, 0.0001, 0.0008, 0.0005, 0.05, 0.005,\n",
       "                                   0.01]},\n",
       "             scoring='accuracy')"
      ]
     },
     "execution_count": 81,
     "metadata": {},
     "output_type": "execute_result"
    }
   ],
   "source": [
    "# Define the parameter grid to search\n",
    "radial_param_grid = {'C': [20, 23, 24, 25, 27], 'gamma': [0.001, 0.0001, 0.0008, 0.0005, 0.05, 0.005, 0.01]} #the range of the hyperparameters was determined through iteration\n",
    "grid_search_rbf = GridSearchCV(estimator=svc_radial_binary, param_grid=radial_param_grid, cv=4, scoring='accuracy', n_jobs=-1)\n",
    "grid_search_rbf.fit(x_train_binary, y_train_binary)"
   ]
  },
  {
   "cell_type": "code",
   "execution_count": 82,
   "id": "19c45df9-269e-4002-8924-4dc329c844b0",
   "metadata": {},
   "outputs": [
    {
     "name": "stdout",
     "output_type": "stream",
     "text": [
      "Accuracy with RBF kernel: 0.9162995594713657\n",
      "Best Hyperparameters with RBF kernel: {'C': 25, 'gamma': 0.001}\n"
     ]
    }
   ],
   "source": [
    "# Get the best parameters from the grid search\n",
    "best_params_rbf = grid_search_rbf.best_params_\n",
    "\n",
    "# Use the best parameters to train the final model\n",
    "final_model_rbf = SVC(kernel='rbf', C=best_params_rbf['C'], gamma=best_params_rbf['gamma'])\n",
    "final_model_rbf.fit(x_train_binary, y_train_binary)\n",
    "\n",
    "# Make predictions on the test set\n",
    "y_pred_rbf = final_model_rbf.predict(x_test_binary)\n",
    "\n",
    "# Evaluate the accuracy\n",
    "accuracy_rbf = accuracy_score(y_test_binary, y_pred_rbf)\n",
    "print(f\"Accuracy with RBF kernel: {accuracy_rbf}\")\n",
    "print(\"Best Hyperparameters with RBF kernel:\", best_params_rbf)"
   ]
  },
  {
   "cell_type": "markdown",
   "id": "d5ec1bfa-5d51-40ab-a3f2-3dc205f70913",
   "metadata": {},
   "source": [
    "# Ensembling"
   ]
  },
  {
   "cell_type": "code",
   "execution_count": 83,
   "id": "8bd7db74-8f64-4482-8d25-0a613b5c1a76",
   "metadata": {},
   "outputs": [],
   "source": [
    "from sklearn.ensemble import VotingClassifier"
   ]
  },
  {
   "cell_type": "code",
   "execution_count": 94,
   "id": "f5ed868d-f9af-495f-b7fa-651ea84cbbc4",
   "metadata": {},
   "outputs": [
    {
     "data": {
      "text/plain": [
       "0.9196035242290749"
      ]
     },
     "execution_count": 94,
     "metadata": {},
     "output_type": "execute_result"
    }
   ],
   "source": [
    "svc_linear_binary = SVC(kernel='linear', C=6, max_iter=-1, probability=True)\n",
    "svc_radial_binary = SVC(kernel='rbf', C=25, gamma=0.001, probability=True)\n",
    "vc = VotingClassifier(estimators=[('linear', svc_linear_binary), ('rbf', svc_radial_binary)], voting='soft')\n",
    "vc.fit(x_train_binary, y_train_binary)\n",
    "vc.score(x_test_binary, y_test_binary)"
   ]
  },
  {
   "cell_type": "code",
   "execution_count": 95,
   "id": "980249f4-21f4-44ab-b014-6e1e420d9a7f",
   "metadata": {},
   "outputs": [
    {
     "data": {
      "text/plain": [
       "0.920704845814978"
      ]
     },
     "execution_count": 95,
     "metadata": {},
     "output_type": "execute_result"
    }
   ],
   "source": [
    "svc_linear_binary.fit(x_train_binary, y_train_binary)\n",
    "svc_linear_binary.score(x_test_binary, y_test_binary)"
   ]
  },
  {
   "cell_type": "markdown",
   "id": "3e18714b-77ae-43f5-8dd0-4046999d9e5f",
   "metadata": {},
   "source": [
    "The ensemble is not as good as a simple linear classifier. But there is still room for improvement!\n",
    "## Bootstrap Aggregating\n",
    "(credit to chatGPT)"
   ]
  },
  {
   "cell_type": "code",
   "execution_count": 108,
   "id": "f5dbafef-8e6a-406b-b099-b4dae6b2fa8e",
   "metadata": {},
   "outputs": [
    {
     "name": "stdout",
     "output_type": "stream",
     "text": [
      "Ensemble Accuracy: 0.920704845814978\n"
     ]
    }
   ],
   "source": [
    "num_models = 5\n",
    "\n",
    "# Create and train linear SVM models on different subsets of the data\n",
    "svm_models = [SVC(kernel='linear', random_state=i) for i in range(num_models)]\n",
    "\n",
    "for i, model in enumerate(svm_models):\n",
    "    # Create a subset of the training data (you can use different strategies for creating subsets)\n",
    "    x_subset, _, y_subset, _ = train_test_split(x_train_binary, y_train_binary, test_size=0.2, random_state=i)\n",
    "    \n",
    "    # Train the model on the subset\n",
    "    model.fit(x_subset, y_subset)\n",
    "\n",
    "# Create a VotingClassifier with linear SVM models\n",
    "voting_classifier = VotingClassifier(estimators=[('svm_model_'+str(i), model) for i, model in enumerate(svm_models)], voting='hard')\n",
    "\n",
    "# Fit the ensemble model on the entire training set\n",
    "voting_classifier.fit(x_train_binary, y_train_binary)\n",
    "\n",
    "# Make predictions on the test set\n",
    "y_pred = voting_classifier.predict(x_test_binary)\n",
    "\n",
    "# Evaluate the accuracy\n",
    "accuracy = accuracy_score(y_test_binary, y_pred)\n",
    "print(f\"Ensemble Accuracy: {accuracy}\")"
   ]
  },
  {
   "cell_type": "code",
   "execution_count": null,
   "id": "755f3ff3-0de0-4dc7-b617-a80deaf0da98",
   "metadata": {},
   "outputs": [],
   "source": []
  }
 ],
 "metadata": {
  "kernelspec": {
   "display_name": "Python 3 (ipykernel)",
   "language": "python",
   "name": "python3"
  },
  "language_info": {
   "codemirror_mode": {
    "name": "ipython",
    "version": 3
   },
   "file_extension": ".py",
   "mimetype": "text/x-python",
   "name": "python",
   "nbconvert_exporter": "python",
   "pygments_lexer": "ipython3",
   "version": "3.11.4"
  }
 },
 "nbformat": 4,
 "nbformat_minor": 5
}
